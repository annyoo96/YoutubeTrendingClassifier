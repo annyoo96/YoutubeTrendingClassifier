{
 "cells": [
  {
   "cell_type": "markdown",
   "metadata": {},
   "source": [
    "# Youtube Recommender System"
   ]
  },
  {
   "cell_type": "markdown",
   "metadata": {},
   "source": [
    "### Group Meeting: 12/3/2019"
   ]
  },
  {
   "cell_type": "code",
   "execution_count": 497,
   "metadata": {},
   "outputs": [],
   "source": [
    "# This tells matplotlib not to try opening a new window for each plot.\n",
    "%matplotlib inline\n",
    "\n",
    "# General libraries.\n",
    "import re\n",
    "import numpy as np\n",
    "import matplotlib.pyplot as plt\n",
    "\n",
    "# SK-learn libraries for learning.\n",
    "from sklearn.pipeline import Pipeline\n",
    "from sklearn.neighbors import KNeighborsClassifier\n",
    "from sklearn.linear_model import LogisticRegression\n",
    "from sklearn.naive_bayes import BernoulliNB\n",
    "from sklearn.naive_bayes import MultinomialNB\n",
    "\n",
    "# SK-learn libraries for evaluation.\n",
    "from sklearn.metrics import confusion_matrix\n",
    "from sklearn import metrics\n",
    "from sklearn.metrics import classification_report\n",
    "\n",
    "# SK-learn libraries for feature extraction from text.\n",
    "from sklearn.feature_extraction.text import *\n",
    "\n",
    "import pandas as pd\n",
    "import nltk\n",
    "\n",
    "from sklearn.tree import DecisionTreeClassifier \n",
    "from sklearn.model_selection import train_test_split\n",
    "from sklearn.linear_model import LinearRegression\n",
    "from sklearn.linear_model import SGDClassifier\n",
    "from sklearn.metrics import classification_report\n",
    "\n",
    "import json\n",
    "\n",
    "import warnings\n",
    "warnings.filterwarnings('ignore')"
   ]
  },
  {
   "cell_type": "code",
   "execution_count": 426,
   "metadata": {},
   "outputs": [
    {
     "data": {
      "text/html": [
       "<div>\n",
       "<style scoped>\n",
       "    .dataframe tbody tr th:only-of-type {\n",
       "        vertical-align: middle;\n",
       "    }\n",
       "\n",
       "    .dataframe tbody tr th {\n",
       "        vertical-align: top;\n",
       "    }\n",
       "\n",
       "    .dataframe thead th {\n",
       "        text-align: right;\n",
       "    }\n",
       "</style>\n",
       "<table border=\"1\" class=\"dataframe\">\n",
       "  <thead>\n",
       "    <tr style=\"text-align: right;\">\n",
       "      <th></th>\n",
       "      <th>video_id</th>\n",
       "      <th>trending_date</th>\n",
       "      <th>title</th>\n",
       "      <th>channel_title</th>\n",
       "      <th>category_id</th>\n",
       "      <th>publish_time</th>\n",
       "      <th>tags</th>\n",
       "      <th>views</th>\n",
       "      <th>likes</th>\n",
       "      <th>dislikes</th>\n",
       "      <th>comment_count</th>\n",
       "      <th>thumbnail_link</th>\n",
       "      <th>comments_disabled</th>\n",
       "      <th>ratings_disabled</th>\n",
       "      <th>video_error_or_removed</th>\n",
       "      <th>description</th>\n",
       "    </tr>\n",
       "  </thead>\n",
       "  <tbody>\n",
       "    <tr>\n",
       "      <th>0</th>\n",
       "      <td>2kyS6SvSYSE</td>\n",
       "      <td>17.14.11</td>\n",
       "      <td>WE WANT TO TALK ABOUT OUR MARRIAGE</td>\n",
       "      <td>CaseyNeistat</td>\n",
       "      <td>22</td>\n",
       "      <td>2017-11-13T17:13:01.000Z</td>\n",
       "      <td>SHANtell martin</td>\n",
       "      <td>748374</td>\n",
       "      <td>57527</td>\n",
       "      <td>2966</td>\n",
       "      <td>15954</td>\n",
       "      <td>https://i.ytimg.com/vi/2kyS6SvSYSE/default.jpg</td>\n",
       "      <td>False</td>\n",
       "      <td>False</td>\n",
       "      <td>False</td>\n",
       "      <td>SHANTELL'S CHANNEL - https://www.youtube.com/s...</td>\n",
       "    </tr>\n",
       "    <tr>\n",
       "      <th>1</th>\n",
       "      <td>1ZAPwfrtAFY</td>\n",
       "      <td>17.14.11</td>\n",
       "      <td>The Trump Presidency: Last Week Tonight with J...</td>\n",
       "      <td>LastWeekTonight</td>\n",
       "      <td>24</td>\n",
       "      <td>2017-11-13T07:30:00.000Z</td>\n",
       "      <td>last week tonight trump presidency|\"last week ...</td>\n",
       "      <td>2418783</td>\n",
       "      <td>97185</td>\n",
       "      <td>6146</td>\n",
       "      <td>12703</td>\n",
       "      <td>https://i.ytimg.com/vi/1ZAPwfrtAFY/default.jpg</td>\n",
       "      <td>False</td>\n",
       "      <td>False</td>\n",
       "      <td>False</td>\n",
       "      <td>One year after the presidential election, John...</td>\n",
       "    </tr>\n",
       "    <tr>\n",
       "      <th>2</th>\n",
       "      <td>5qpjK5DgCt4</td>\n",
       "      <td>17.14.11</td>\n",
       "      <td>Racist Superman | Rudy Mancuso, King Bach &amp; Le...</td>\n",
       "      <td>Rudy Mancuso</td>\n",
       "      <td>23</td>\n",
       "      <td>2017-11-12T19:05:24.000Z</td>\n",
       "      <td>racist superman|\"rudy\"|\"mancuso\"|\"king\"|\"bach\"...</td>\n",
       "      <td>3191434</td>\n",
       "      <td>146033</td>\n",
       "      <td>5339</td>\n",
       "      <td>8181</td>\n",
       "      <td>https://i.ytimg.com/vi/5qpjK5DgCt4/default.jpg</td>\n",
       "      <td>False</td>\n",
       "      <td>False</td>\n",
       "      <td>False</td>\n",
       "      <td>WATCH MY PREVIOUS VIDEO ▶ \\n\\nSUBSCRIBE ► http...</td>\n",
       "    </tr>\n",
       "    <tr>\n",
       "      <th>3</th>\n",
       "      <td>puqaWrEC7tY</td>\n",
       "      <td>17.14.11</td>\n",
       "      <td>Nickelback Lyrics: Real or Fake?</td>\n",
       "      <td>Good Mythical Morning</td>\n",
       "      <td>24</td>\n",
       "      <td>2017-11-13T11:00:04.000Z</td>\n",
       "      <td>rhett and link|\"gmm\"|\"good mythical morning\"|\"...</td>\n",
       "      <td>343168</td>\n",
       "      <td>10172</td>\n",
       "      <td>666</td>\n",
       "      <td>2146</td>\n",
       "      <td>https://i.ytimg.com/vi/puqaWrEC7tY/default.jpg</td>\n",
       "      <td>False</td>\n",
       "      <td>False</td>\n",
       "      <td>False</td>\n",
       "      <td>Today we find out if Link is a Nickelback amat...</td>\n",
       "    </tr>\n",
       "    <tr>\n",
       "      <th>4</th>\n",
       "      <td>d380meD0W0M</td>\n",
       "      <td>17.14.11</td>\n",
       "      <td>I Dare You: GOING BALD!?</td>\n",
       "      <td>nigahiga</td>\n",
       "      <td>24</td>\n",
       "      <td>2017-11-12T18:01:41.000Z</td>\n",
       "      <td>ryan|\"higa\"|\"higatv\"|\"nigahiga\"|\"i dare you\"|\"...</td>\n",
       "      <td>2095731</td>\n",
       "      <td>132235</td>\n",
       "      <td>1989</td>\n",
       "      <td>17518</td>\n",
       "      <td>https://i.ytimg.com/vi/d380meD0W0M/default.jpg</td>\n",
       "      <td>False</td>\n",
       "      <td>False</td>\n",
       "      <td>False</td>\n",
       "      <td>I know it's been a while since we did this sho...</td>\n",
       "    </tr>\n",
       "  </tbody>\n",
       "</table>\n",
       "</div>"
      ],
      "text/plain": [
       "      video_id trending_date  \\\n",
       "0  2kyS6SvSYSE      17.14.11   \n",
       "1  1ZAPwfrtAFY      17.14.11   \n",
       "2  5qpjK5DgCt4      17.14.11   \n",
       "3  puqaWrEC7tY      17.14.11   \n",
       "4  d380meD0W0M      17.14.11   \n",
       "\n",
       "                                               title          channel_title  \\\n",
       "0                 WE WANT TO TALK ABOUT OUR MARRIAGE           CaseyNeistat   \n",
       "1  The Trump Presidency: Last Week Tonight with J...        LastWeekTonight   \n",
       "2  Racist Superman | Rudy Mancuso, King Bach & Le...           Rudy Mancuso   \n",
       "3                   Nickelback Lyrics: Real or Fake?  Good Mythical Morning   \n",
       "4                           I Dare You: GOING BALD!?               nigahiga   \n",
       "\n",
       "   category_id              publish_time  \\\n",
       "0           22  2017-11-13T17:13:01.000Z   \n",
       "1           24  2017-11-13T07:30:00.000Z   \n",
       "2           23  2017-11-12T19:05:24.000Z   \n",
       "3           24  2017-11-13T11:00:04.000Z   \n",
       "4           24  2017-11-12T18:01:41.000Z   \n",
       "\n",
       "                                                tags    views   likes  \\\n",
       "0                                    SHANtell martin   748374   57527   \n",
       "1  last week tonight trump presidency|\"last week ...  2418783   97185   \n",
       "2  racist superman|\"rudy\"|\"mancuso\"|\"king\"|\"bach\"...  3191434  146033   \n",
       "3  rhett and link|\"gmm\"|\"good mythical morning\"|\"...   343168   10172   \n",
       "4  ryan|\"higa\"|\"higatv\"|\"nigahiga\"|\"i dare you\"|\"...  2095731  132235   \n",
       "\n",
       "   dislikes  comment_count                                  thumbnail_link  \\\n",
       "0      2966          15954  https://i.ytimg.com/vi/2kyS6SvSYSE/default.jpg   \n",
       "1      6146          12703  https://i.ytimg.com/vi/1ZAPwfrtAFY/default.jpg   \n",
       "2      5339           8181  https://i.ytimg.com/vi/5qpjK5DgCt4/default.jpg   \n",
       "3       666           2146  https://i.ytimg.com/vi/puqaWrEC7tY/default.jpg   \n",
       "4      1989          17518  https://i.ytimg.com/vi/d380meD0W0M/default.jpg   \n",
       "\n",
       "   comments_disabled  ratings_disabled  video_error_or_removed  \\\n",
       "0              False             False                   False   \n",
       "1              False             False                   False   \n",
       "2              False             False                   False   \n",
       "3              False             False                   False   \n",
       "4              False             False                   False   \n",
       "\n",
       "                                         description  \n",
       "0  SHANTELL'S CHANNEL - https://www.youtube.com/s...  \n",
       "1  One year after the presidential election, John...  \n",
       "2  WATCH MY PREVIOUS VIDEO ▶ \\n\\nSUBSCRIBE ► http...  \n",
       "3  Today we find out if Link is a Nickelback amat...  \n",
       "4  I know it's been a while since we did this sho...  "
      ]
     },
     "execution_count": 426,
     "metadata": {},
     "output_type": "execute_result"
    }
   ],
   "source": [
    "us_video_data = pd.read_csv(\"dataset/USvideos.csv\")\n",
    "ca_video_data = pd.read_csv(\"dataset/CAvideos.csv\")\n",
    "gb_video_data = pd.read_csv(\"dataset/GBvideos.csv\")\n",
    "\n",
    "video_data = us_video_data.append(ca_video_data, ignore_index=True)\n",
    "video_data = video_data.append(gb_video_data, ignore_index=True)\n",
    "video_data.head()"
   ]
  },
  {
   "cell_type": "code",
   "execution_count": 427,
   "metadata": {},
   "outputs": [
    {
     "data": {
      "text/plain": [
       "120746"
      ]
     },
     "execution_count": 427,
     "metadata": {},
     "output_type": "execute_result"
    }
   ],
   "source": [
    "len(video_data)"
   ]
  },
  {
   "cell_type": "code",
   "execution_count": 428,
   "metadata": {},
   "outputs": [],
   "source": [
    "clean_vid_data = video_data.groupby([\"title\"]).first().reset_index()"
   ]
  },
  {
   "cell_type": "code",
   "execution_count": 429,
   "metadata": {},
   "outputs": [
    {
     "data": {
      "text/html": [
       "<div>\n",
       "<style scoped>\n",
       "    .dataframe tbody tr th:only-of-type {\n",
       "        vertical-align: middle;\n",
       "    }\n",
       "\n",
       "    .dataframe tbody tr th {\n",
       "        vertical-align: top;\n",
       "    }\n",
       "\n",
       "    .dataframe thead th {\n",
       "        text-align: right;\n",
       "    }\n",
       "</style>\n",
       "<table border=\"1\" class=\"dataframe\">\n",
       "  <thead>\n",
       "    <tr style=\"text-align: right;\">\n",
       "      <th></th>\n",
       "      <th>title</th>\n",
       "      <th>video_id</th>\n",
       "      <th>trending_date</th>\n",
       "      <th>channel_title</th>\n",
       "      <th>category_id</th>\n",
       "      <th>publish_time</th>\n",
       "      <th>tags</th>\n",
       "      <th>views</th>\n",
       "      <th>likes</th>\n",
       "      <th>dislikes</th>\n",
       "      <th>comment_count</th>\n",
       "      <th>thumbnail_link</th>\n",
       "      <th>comments_disabled</th>\n",
       "      <th>ratings_disabled</th>\n",
       "      <th>video_error_or_removed</th>\n",
       "      <th>description</th>\n",
       "    </tr>\n",
       "  </thead>\n",
       "  <tbody>\n",
       "    <tr>\n",
       "      <th>0</th>\n",
       "      <td>!! THIS VIDEO IS NOTHING BUT PAIN !! | Getting...</td>\n",
       "      <td>PNn8sECd7io</td>\n",
       "      <td>18.04.01</td>\n",
       "      <td>Markiplier</td>\n",
       "      <td>20</td>\n",
       "      <td>2018-01-03T19:33:53.000Z</td>\n",
       "      <td>getting over it|\"markiplier\"|\"funny moments\"|\"...</td>\n",
       "      <td>835930</td>\n",
       "      <td>47058</td>\n",
       "      <td>1023</td>\n",
       "      <td>8250</td>\n",
       "      <td>https://i.ytimg.com/vi/PNn8sECd7io/default.jpg</td>\n",
       "      <td>False</td>\n",
       "      <td>False</td>\n",
       "      <td>False</td>\n",
       "      <td>Getting Over It continues with RAGE BEYOND ALL...</td>\n",
       "    </tr>\n",
       "    <tr>\n",
       "      <th>1</th>\n",
       "      <td>#1 Fortnite World Rank - 2,323 Solo Wins!</td>\n",
       "      <td>DvPW66IFhMI</td>\n",
       "      <td>18.09.03</td>\n",
       "      <td>AlexRamiGaming</td>\n",
       "      <td>20</td>\n",
       "      <td>2018-03-09T07:15:52.000Z</td>\n",
       "      <td>PS4 Battle Royale|\"PS4 Pro Battle Royale\"|\"Bat...</td>\n",
       "      <td>212838</td>\n",
       "      <td>5199</td>\n",
       "      <td>542</td>\n",
       "      <td>11</td>\n",
       "      <td>https://i.ytimg.com/vi/DvPW66IFhMI/default.jpg</td>\n",
       "      <td>False</td>\n",
       "      <td>False</td>\n",
       "      <td>False</td>\n",
       "      <td>Discord For EVERYONE - https://discord.gg/nhud...</td>\n",
       "    </tr>\n",
       "    <tr>\n",
       "      <th>2</th>\n",
       "      <td>#1 Fortnite World Rank - 2,330 Solo Wins!</td>\n",
       "      <td>EXEaMjFeiEk</td>\n",
       "      <td>18.10.03</td>\n",
       "      <td>AlexRamiGaming</td>\n",
       "      <td>20</td>\n",
       "      <td>2018-03-10T06:26:17.000Z</td>\n",
       "      <td>PS4 Battle Royale|\"PS4 Pro Battle Royale\"|\"Bat...</td>\n",
       "      <td>200764</td>\n",
       "      <td>5620</td>\n",
       "      <td>537</td>\n",
       "      <td>45</td>\n",
       "      <td>https://i.ytimg.com/vi/EXEaMjFeiEk/default.jpg</td>\n",
       "      <td>False</td>\n",
       "      <td>False</td>\n",
       "      <td>False</td>\n",
       "      <td>Discord For EVERYONE - https://discord.gg/nhud...</td>\n",
       "    </tr>\n",
       "    <tr>\n",
       "      <th>3</th>\n",
       "      <td>#1 MOST ANTICIPATED VIDEO (Timber Frame House ...</td>\n",
       "      <td>bYvQmusLaxw</td>\n",
       "      <td>17.20.12</td>\n",
       "      <td>Pure Living for Life</td>\n",
       "      <td>24</td>\n",
       "      <td>2017-12-20T02:49:11.000Z</td>\n",
       "      <td>timber frame|\"timber framing\"|\"timber frame ra...</td>\n",
       "      <td>79152</td>\n",
       "      <td>7761</td>\n",
       "      <td>159</td>\n",
       "      <td>1965</td>\n",
       "      <td>https://i.ytimg.com/vi/bYvQmusLaxw/default.jpg</td>\n",
       "      <td>False</td>\n",
       "      <td>False</td>\n",
       "      <td>False</td>\n",
       "      <td>Shelter Institute: http://bit.ly/2iwXj8B\\nFull...</td>\n",
       "    </tr>\n",
       "    <tr>\n",
       "      <th>4</th>\n",
       "      <td>#1 WORLD RANKED 1463 SOLO WINS! - FORTNITE BAT...</td>\n",
       "      <td>xQ4Q5b2WwO8</td>\n",
       "      <td>18.18.01</td>\n",
       "      <td>AlexRamiGaming</td>\n",
       "      <td>20</td>\n",
       "      <td>2018-01-17T18:00:05.000Z</td>\n",
       "      <td>PS4 Battle Royale|\"PS4 Pro Battle Royale\"|\"Bat...</td>\n",
       "      <td>541482</td>\n",
       "      <td>15430</td>\n",
       "      <td>891</td>\n",
       "      <td>40</td>\n",
       "      <td>https://i.ytimg.com/vi/xQ4Q5b2WwO8/default_liv...</td>\n",
       "      <td>False</td>\n",
       "      <td>False</td>\n",
       "      <td>False</td>\n",
       "      <td>►Twitter @AlexRamiGaming\\n\\n►Tips &amp; Donations\\...</td>\n",
       "    </tr>\n",
       "  </tbody>\n",
       "</table>\n",
       "</div>"
      ],
      "text/plain": [
       "                                               title     video_id  \\\n",
       "0  !! THIS VIDEO IS NOTHING BUT PAIN !! | Getting...  PNn8sECd7io   \n",
       "1          #1 Fortnite World Rank - 2,323 Solo Wins!  DvPW66IFhMI   \n",
       "2          #1 Fortnite World Rank - 2,330 Solo Wins!  EXEaMjFeiEk   \n",
       "3  #1 MOST ANTICIPATED VIDEO (Timber Frame House ...  bYvQmusLaxw   \n",
       "4  #1 WORLD RANKED 1463 SOLO WINS! - FORTNITE BAT...  xQ4Q5b2WwO8   \n",
       "\n",
       "  trending_date         channel_title  category_id              publish_time  \\\n",
       "0      18.04.01            Markiplier           20  2018-01-03T19:33:53.000Z   \n",
       "1      18.09.03        AlexRamiGaming           20  2018-03-09T07:15:52.000Z   \n",
       "2      18.10.03        AlexRamiGaming           20  2018-03-10T06:26:17.000Z   \n",
       "3      17.20.12  Pure Living for Life           24  2017-12-20T02:49:11.000Z   \n",
       "4      18.18.01        AlexRamiGaming           20  2018-01-17T18:00:05.000Z   \n",
       "\n",
       "                                                tags   views  likes  dislikes  \\\n",
       "0  getting over it|\"markiplier\"|\"funny moments\"|\"...  835930  47058      1023   \n",
       "1  PS4 Battle Royale|\"PS4 Pro Battle Royale\"|\"Bat...  212838   5199       542   \n",
       "2  PS4 Battle Royale|\"PS4 Pro Battle Royale\"|\"Bat...  200764   5620       537   \n",
       "3  timber frame|\"timber framing\"|\"timber frame ra...   79152   7761       159   \n",
       "4  PS4 Battle Royale|\"PS4 Pro Battle Royale\"|\"Bat...  541482  15430       891   \n",
       "\n",
       "   comment_count                                     thumbnail_link  \\\n",
       "0           8250     https://i.ytimg.com/vi/PNn8sECd7io/default.jpg   \n",
       "1             11     https://i.ytimg.com/vi/DvPW66IFhMI/default.jpg   \n",
       "2             45     https://i.ytimg.com/vi/EXEaMjFeiEk/default.jpg   \n",
       "3           1965     https://i.ytimg.com/vi/bYvQmusLaxw/default.jpg   \n",
       "4             40  https://i.ytimg.com/vi/xQ4Q5b2WwO8/default_liv...   \n",
       "\n",
       "   comments_disabled  ratings_disabled  video_error_or_removed  \\\n",
       "0              False             False                   False   \n",
       "1              False             False                   False   \n",
       "2              False             False                   False   \n",
       "3              False             False                   False   \n",
       "4              False             False                   False   \n",
       "\n",
       "                                         description  \n",
       "0  Getting Over It continues with RAGE BEYOND ALL...  \n",
       "1  Discord For EVERYONE - https://discord.gg/nhud...  \n",
       "2  Discord For EVERYONE - https://discord.gg/nhud...  \n",
       "3  Shelter Institute: http://bit.ly/2iwXj8B\\nFull...  \n",
       "4  ►Twitter @AlexRamiGaming\\n\\n►Tips & Donations\\...  "
      ]
     },
     "execution_count": 429,
     "metadata": {},
     "output_type": "execute_result"
    }
   ],
   "source": [
    "clean_vid_data.head(5)"
   ]
  },
  {
   "cell_type": "code",
   "execution_count": 430,
   "metadata": {},
   "outputs": [
    {
     "data": {
      "text/plain": [
       "30626"
      ]
     },
     "execution_count": 430,
     "metadata": {},
     "output_type": "execute_result"
    }
   ],
   "source": [
    "len(clean_vid_data)"
   ]
  },
  {
   "cell_type": "markdown",
   "metadata": {},
   "source": [
    "## Part 1: Category Classification Model"
   ]
  },
  {
   "cell_type": "code",
   "execution_count": 405,
   "metadata": {},
   "outputs": [],
   "source": [
    "def create_category_map():\n",
    "    category_map = {}\n",
    "    data = {}\n",
    "    with open('dataset/US_category_id.json', 'r') as outfile:\n",
    "        data = json.load(outfile)\n",
    "        for item in data[\"items\"]:\n",
    "            category_map[item[\"id\"]] = item[\"snippet\"][\"title\"]\n",
    "    return category_map\n",
    "category_map = create_category_map()"
   ]
  },
  {
   "cell_type": "code",
   "execution_count": 406,
   "metadata": {},
   "outputs": [
    {
     "data": {
      "text/plain": [
       "{'1': 'Film & Animation',\n",
       " '2': 'Autos & Vehicles',\n",
       " '10': 'Music',\n",
       " '15': 'Pets & Animals',\n",
       " '17': 'Sports',\n",
       " '18': 'Short Movies',\n",
       " '19': 'Travel & Events',\n",
       " '20': 'Gaming',\n",
       " '21': 'Videoblogging',\n",
       " '22': 'People & Blogs',\n",
       " '23': 'Comedy',\n",
       " '24': 'Entertainment',\n",
       " '25': 'News & Politics',\n",
       " '26': 'Howto & Style',\n",
       " '27': 'Education',\n",
       " '28': 'Science & Technology',\n",
       " '29': 'Nonprofits & Activism',\n",
       " '30': 'Movies',\n",
       " '31': 'Anime/Animation',\n",
       " '32': 'Action/Adventure',\n",
       " '33': 'Classics',\n",
       " '34': 'Comedy',\n",
       " '35': 'Documentary',\n",
       " '36': 'Drama',\n",
       " '37': 'Family',\n",
       " '38': 'Foreign',\n",
       " '39': 'Horror',\n",
       " '40': 'Sci-Fi/Fantasy',\n",
       " '41': 'Thriller',\n",
       " '42': 'Shorts',\n",
       " '43': 'Shows',\n",
       " '44': 'Trailers'}"
      ]
     },
     "execution_count": 406,
     "metadata": {},
     "output_type": "execute_result"
    }
   ],
   "source": [
    "category_map"
   ]
  },
  {
   "cell_type": "code",
   "execution_count": 407,
   "metadata": {},
   "outputs": [],
   "source": [
    "import re\n",
    "\n",
    "def preprocess_text_df(text):\n",
    "    text = text.apply(lambda x: x.lower())\n",
    "    text = text.str.replace(r'[^a-zA-Z ]', '') #text.str.replace(r'[^\\w\\s]', '')\n",
    "    return text\n",
    "\n",
    "def preprocess_text(text):\n",
    "    text = text.lower()\n",
    "    regex = re.compile('[^a-zA-Z ]')\n",
    "    text = regex.sub('', text)\n",
    "    return text"
   ]
  },
  {
   "cell_type": "code",
   "execution_count": 408,
   "metadata": {},
   "outputs": [
    {
     "data": {
      "text/plain": [
       "'dua lipa  idgaf official music video'"
      ]
     },
     "execution_count": 408,
     "metadata": {},
     "output_type": "execute_result"
    }
   ],
   "source": [
    "preprocess_text(\"Dua Lipa - IDGAF (Official Music Video)\")"
   ]
  },
  {
   "cell_type": "code",
   "execution_count": 409,
   "metadata": {},
   "outputs": [],
   "source": [
    "def predict_category(X_train, y_train, X_test, vectorizer, clf):\n",
    "    X_train = vectorizer.fit_transform(X_train)\n",
    "    clf.fit(X_train, y_train)\n",
    "    y_pred = clf.predict(vectorizer.transform(X_test))\n",
    "    return y_pred"
   ]
  },
  {
   "cell_type": "code",
   "execution_count": null,
   "metadata": {},
   "outputs": [],
   "source": [
    "def predict_category_from_title(title):\n",
    "    ....\n",
    "    \n",
    "    \n",
    "    return category"
   ]
  },
  {
   "cell_type": "code",
   "execution_count": 431,
   "metadata": {},
   "outputs": [
    {
     "name": "stdout",
     "output_type": "stream",
     "text": [
      "              precision    recall  f1-score   support\n",
      "\n",
      "           1       0.64      0.47      0.54       138\n",
      "           2       0.78      0.57      0.66        37\n",
      "          10       0.68      0.86      0.76       272\n",
      "          15       0.45      0.31      0.37        29\n",
      "          17       0.71      0.86      0.78       229\n",
      "          19       0.70      0.78      0.74        18\n",
      "          20       0.57      0.40      0.47        92\n",
      "          22       0.57      0.29      0.38       313\n",
      "          23       0.66      0.41      0.51       234\n",
      "          24       0.62      0.76      0.68      1002\n",
      "          25       0.60      0.62      0.61       335\n",
      "          26       0.66      0.77      0.71       182\n",
      "          27       0.42      0.23      0.30        79\n",
      "          28       0.61      0.47      0.53        88\n",
      "          29       0.00      0.00      0.00         3\n",
      "          43       0.50      0.17      0.25        12\n",
      "\n",
      "    accuracy                           0.63      3063\n",
      "   macro avg       0.57      0.50      0.52      3063\n",
      "weighted avg       0.62      0.63      0.61      3063\n",
      "\n"
     ]
    },
    {
     "name": "stderr",
     "output_type": "stream",
     "text": [
      "/Users/frys/Documents/MIDS/w207/w207/lib/python3.7/site-packages/sklearn/metrics/classification.py:1437: UndefinedMetricWarning: Precision and F-score are ill-defined and being set to 0.0 in labels with no predicted samples.\n",
      "  'precision', 'predicted', average, warn_for)\n"
     ]
    }
   ],
   "source": [
    "clean_vid_data[\"title_clean\"] = preprocess_text_df(clean_vid_data.title)\n",
    "X_train, X_test, y_train, y_test = train_test_split(clean_vid_data[\"title_clean\"], \n",
    "                                                    clean_vid_data['category_id'], \n",
    "                                                    test_size=0.1, \n",
    "                                                    shuffle=True\n",
    "                                                    )\n",
    "y_pred = predict_category(X_train, y_train, X_test, TfidfVectorizer(), SGDClassifier())\n",
    "print(classification_report(y_test, y_pred))"
   ]
  },
  {
   "cell_type": "code",
   "execution_count": 167,
   "metadata": {},
   "outputs": [
    {
     "data": {
      "text/plain": [
       "780     black panther continues its reign breaks more ...\n",
       "3275    lady gaga  the cure live at amas from joanne w...\n",
       "3510             my thoughts about making the forbes list\n",
       "1186    colin farrell dishes on rendezvous with girlfr...\n",
       "3243                    la noire  nintendo switch trailer\n",
       "                              ...                        \n",
       "2813                                  its ok to not be ok\n",
       "3936    new 2018 ipad announced 329 a10 fusion  apple ...\n",
       "4510              roy moore  jeff sessions cold open  snl\n",
       "2085                       google pixelbook 1000 of weird\n",
       "3754                migos nicki minaj cardi b  motorsport\n",
       "Name: title, Length: 646, dtype: object"
      ]
     },
     "execution_count": 167,
     "metadata": {},
     "output_type": "execute_result"
    }
   ],
   "source": [
    "X_test"
   ]
  },
  {
   "cell_type": "code",
   "execution_count": 46,
   "metadata": {},
   "outputs": [
    {
     "data": {
      "text/plain": [
       "array([25,  1, 24, 26, 15, 10, 25,  1, 10, 23, 25, 25, 26, 24, 24,  1, 24,\n",
       "       23, 22,  2, 26, 17, 10, 24, 25, 24, 24, 24, 28, 24, 10, 24, 24, 23,\n",
       "       24, 24, 22, 25, 24, 23, 25, 27, 24, 17, 17, 24, 27, 24, 27, 17, 24,\n",
       "       22, 23, 28, 24, 24, 20, 23, 24, 20, 22, 24, 17, 20, 22, 26, 23, 22,\n",
       "       26, 24, 24, 27, 24, 10, 26, 15, 22, 24, 19, 25, 26, 10, 22, 28, 24,\n",
       "       26, 10, 10, 24, 28, 27, 17, 24, 24, 24, 25, 24, 24, 26, 25, 26, 10,\n",
       "       26, 24, 10, 17,  1, 10, 10, 24, 10, 22, 24, 27, 22, 25, 10, 24, 28,\n",
       "       24, 22, 22,  1, 24, 25, 24, 15, 25, 20, 10, 24, 27, 28, 23, 24, 10,\n",
       "       17, 17, 25, 24, 10, 24, 10, 10, 24, 17, 15, 24, 24, 24,  1, 27, 23,\n",
       "        1,  1, 28, 22, 26, 23, 24, 28, 24, 10, 24, 22, 25, 17, 17, 25, 24,\n",
       "        2, 24, 24,  1, 26, 25, 25, 22, 27, 17, 23, 27, 25, 24, 24, 23, 22,\n",
       "       19, 26, 27, 26, 26, 27, 24, 17, 10, 22, 26, 23, 10, 17, 22,  1, 26,\n",
       "       25, 27, 28, 24, 24, 28, 10, 27, 26, 17, 22, 25, 26, 24, 24, 24, 10,\n",
       "       25, 26, 23, 24, 22, 15, 28,  1, 22, 25, 24, 24, 26, 24, 25, 24, 17,\n",
       "       28, 23, 24, 10, 23, 24, 24, 10, 17, 24, 25, 24, 10, 26, 24, 27, 28,\n",
       "       10, 15, 24, 24,  2, 28, 24, 28, 22, 28, 26, 17, 24, 25, 23, 24, 25,\n",
       "       20, 28, 27, 15, 10, 25, 24, 10, 25,  1, 22, 24, 24, 20, 24, 20, 26,\n",
       "       26, 10, 23, 24, 24, 22, 24, 15, 10, 10, 26, 25, 10, 24, 24, 10, 24,\n",
       "       10, 10, 25, 26, 24, 10, 26, 26, 24, 10, 24, 28, 24, 23,  2, 24, 22,\n",
       "       24, 10, 24, 25, 24, 24, 10, 24, 26, 26, 10, 22, 25,  1, 24, 23, 25,\n",
       "        1, 27, 24, 24, 26, 17, 17, 26, 28, 10, 22, 25, 17, 23, 26, 22,  2,\n",
       "       17, 28, 23, 24, 24, 26, 22, 10, 17, 24, 26, 24, 17, 26, 15, 24, 19,\n",
       "       28, 24, 26, 10, 10, 24, 28, 28, 17, 17, 26, 22, 22, 26, 10, 24, 26,\n",
       "       22, 24, 28, 10, 25, 25, 15, 26, 25,  1, 10,  1, 20, 25, 23, 24, 24,\n",
       "       17, 17, 20, 10, 17, 27, 24, 22, 26, 24, 24, 25, 26, 17, 10, 24, 15,\n",
       "       24, 24, 24,  1, 17, 24, 27, 27, 17,  1, 24, 24, 10, 24, 24, 24, 24,\n",
       "       26, 24, 25, 24, 10, 22, 26, 25, 27, 27, 22, 24, 23, 24, 24, 10, 10,\n",
       "       24, 24, 24, 24, 24, 24, 10, 24, 17, 25, 25, 10, 25, 28, 22, 24, 23,\n",
       "       24, 10, 23, 24,  1, 27, 23, 17, 22, 23, 17, 25, 28, 24, 24, 10, 28,\n",
       "       24, 10, 24, 28, 25, 23, 23, 26,  1, 24, 23, 10, 24, 24, 10, 28, 24,\n",
       "       25, 26, 26,  2, 25, 24, 24, 10, 26,  1, 24, 10, 27, 24, 15, 10, 24,\n",
       "       22, 23, 24, 10, 22, 17, 26,  1, 28, 24, 26, 24, 24, 28, 24, 24, 23,\n",
       "       28, 28, 28, 24, 22, 22, 17, 24, 25, 24, 25, 23, 24, 10, 22, 24, 24,\n",
       "       17, 23,  1, 24, 17, 23, 22, 24, 23, 25, 24, 23, 10, 10, 27, 24, 24,\n",
       "       23, 10, 23, 28, 22, 10, 22, 23, 23, 23, 15, 22, 10, 24, 10, 28, 10,\n",
       "       22, 24, 25, 24, 17, 22, 15,  1, 24, 17, 15, 10, 24, 27, 24, 24, 25,\n",
       "       10, 27, 10, 10, 22, 24, 28, 28, 23, 17, 24, 17, 25, 27, 24, 24,  1,\n",
       "       24, 24, 28, 24, 10, 25, 10, 24, 17, 28, 28, 25, 10, 22,  1, 24, 10])"
      ]
     },
     "execution_count": 46,
     "metadata": {},
     "output_type": "execute_result"
    }
   ],
   "source": [
    "y_pred"
   ]
  },
  {
   "cell_type": "code",
   "execution_count": 432,
   "metadata": {},
   "outputs": [
    {
     "data": {
      "text/plain": [
       "0.6314071172053543"
      ]
     },
     "execution_count": 432,
     "metadata": {},
     "output_type": "execute_result"
    }
   ],
   "source": [
    "metrics.accuracy_score(y_test, y_pred)"
   ]
  },
  {
   "cell_type": "code",
   "execution_count": 412,
   "metadata": {},
   "outputs": [],
   "source": [
    "def category_group(num):\n",
    "    category_number = num    \n",
    "    category_name = category_map[str(num)]\n",
    "    rslt_df = clean_vid_data[clean_vid_data['category_id'] == category_number] \n",
    "    return rslt_df.reset_index()"
   ]
  },
  {
   "cell_type": "markdown",
   "metadata": {},
   "source": [
    "ann"
   ]
  },
  {
   "cell_type": "code",
   "execution_count": 413,
   "metadata": {},
   "outputs": [],
   "source": [
    "def find_tags(vidtitle, rslt_df) : \n",
    "    row = rslt_df[rslt_df['title'] == vidtitle]\n",
    "    tags = row['tags']\n",
    "    list_of_tags = []\n",
    "    for it in tags:\n",
    "        ls = it.split('|')\n",
    "        for l in ls:\n",
    "            if l != '[none]':\n",
    "                list_of_tags.append(l)    \n",
    "    return list_of_tags#[0] if len(list_of_tags) else list_of_tags"
   ]
  },
  {
   "cell_type": "code",
   "execution_count": null,
   "metadata": {},
   "outputs": [],
   "source": []
  },
  {
   "cell_type": "markdown",
   "metadata": {},
   "source": [
    "## Part 2: Same Category Video Rankings"
   ]
  },
  {
   "cell_type": "markdown",
   "metadata": {},
   "source": [
    "annabelle"
   ]
  },
  {
   "cell_type": "markdown",
   "metadata": {},
   "source": [
    "### 2.1 Ranking Based on Title"
   ]
  },
  {
   "cell_type": "code",
   "execution_count": 435,
   "metadata": {},
   "outputs": [
    {
     "name": "stderr",
     "output_type": "stream",
     "text": [
      "/Users/frys/Documents/MIDS/w207/w207/lib/python3.7/site-packages/ipykernel_launcher.py:2: SettingWithCopyWarning: \n",
      "A value is trying to be set on a copy of a slice from a DataFrame.\n",
      "Try using .loc[row_indexer,col_indexer] = value instead\n",
      "\n",
      "See the caveats in the documentation: http://pandas.pydata.org/pandas-docs/stable/user_guide/indexing.html#returning-a-view-versus-a-copy\n",
      "  \n"
     ]
    },
    {
     "data": {
      "text/html": [
       "<div>\n",
       "<style scoped>\n",
       "    .dataframe tbody tr th:only-of-type {\n",
       "        vertical-align: middle;\n",
       "    }\n",
       "\n",
       "    .dataframe tbody tr th {\n",
       "        vertical-align: top;\n",
       "    }\n",
       "\n",
       "    .dataframe thead th {\n",
       "        text-align: right;\n",
       "    }\n",
       "</style>\n",
       "<table border=\"1\" class=\"dataframe\">\n",
       "  <thead>\n",
       "    <tr style=\"text-align: right;\">\n",
       "      <th></th>\n",
       "      <th>title</th>\n",
       "      <th>category_id</th>\n",
       "      <th>title_clean</th>\n",
       "    </tr>\n",
       "  </thead>\n",
       "  <tbody>\n",
       "    <tr>\n",
       "      <th>0</th>\n",
       "      <td>!! THIS VIDEO IS NOTHING BUT PAIN !! | Getting...</td>\n",
       "      <td>20</td>\n",
       "      <td>this video is nothing but pain   getting over...</td>\n",
       "    </tr>\n",
       "    <tr>\n",
       "      <th>1</th>\n",
       "      <td>#1 Fortnite World Rank - 2,323 Solo Wins!</td>\n",
       "      <td>20</td>\n",
       "      <td>fortnite world rank   solo wins</td>\n",
       "    </tr>\n",
       "    <tr>\n",
       "      <th>2</th>\n",
       "      <td>#1 Fortnite World Rank - 2,330 Solo Wins!</td>\n",
       "      <td>20</td>\n",
       "      <td>fortnite world rank   solo wins</td>\n",
       "    </tr>\n",
       "    <tr>\n",
       "      <th>3</th>\n",
       "      <td>#1 MOST ANTICIPATED VIDEO (Timber Frame House ...</td>\n",
       "      <td>24</td>\n",
       "      <td>most anticipated video timber frame house rai...</td>\n",
       "    </tr>\n",
       "    <tr>\n",
       "      <th>4</th>\n",
       "      <td>#1 WORLD RANKED 1463 SOLO WINS! - FORTNITE BAT...</td>\n",
       "      <td>20</td>\n",
       "      <td>world ranked  solo wins  fortnite battle roya...</td>\n",
       "    </tr>\n",
       "  </tbody>\n",
       "</table>\n",
       "</div>"
      ],
      "text/plain": [
       "                                               title  category_id  \\\n",
       "0  !! THIS VIDEO IS NOTHING BUT PAIN !! | Getting...           20   \n",
       "1          #1 Fortnite World Rank - 2,323 Solo Wins!           20   \n",
       "2          #1 Fortnite World Rank - 2,330 Solo Wins!           20   \n",
       "3  #1 MOST ANTICIPATED VIDEO (Timber Frame House ...           24   \n",
       "4  #1 WORLD RANKED 1463 SOLO WINS! - FORTNITE BAT...           20   \n",
       "\n",
       "                                         title_clean  \n",
       "0   this video is nothing but pain   getting over...  \n",
       "1                    fortnite world rank   solo wins  \n",
       "2                    fortnite world rank   solo wins  \n",
       "3   most anticipated video timber frame house rai...  \n",
       "4   world ranked  solo wins  fortnite battle roya...  "
      ]
     },
     "execution_count": 435,
     "metadata": {},
     "output_type": "execute_result"
    }
   ],
   "source": [
    "video = clean_vid_data[[\"title\", \"category_id\"]]\n",
    "video[\"title_clean\"] = preprocess_text_df(video.title)\n",
    "video.head()"
   ]
  },
  {
   "cell_type": "code",
   "execution_count": 484,
   "metadata": {},
   "outputs": [],
   "source": [
    "#source: https://towardsdatascience.com/overview-of-text-similarity-metrics-3397c4601f50\n",
    "def get_jaccard_sim(a, str2): \n",
    "    #a = set(str1.split()) \n",
    "    b = set(str2.split())\n",
    "    c = a.intersection(b)\n",
    "    return float(len(c)) / (len(a) + len(b) - len(c))\n",
    "\n",
    "def get_jaccard_sim_list(list1, list2): \n",
    "    a = set(list1) \n",
    "    b = set(list2)\n",
    "    c = a.intersection(b)\n",
    "    if (len(a) + len(b) - len(c)) == 0:\n",
    "        return 0\n",
    "    return float(len(c)) / (len(a) + len(b) - len(c))"
   ]
  },
  {
   "cell_type": "code",
   "execution_count": 503,
   "metadata": {},
   "outputs": [],
   "source": [
    "def find_similar_title(v):\n",
    "    cleaned_title = preprocess_text(v)\n",
    "    a = set(cleaned_title.split())\n",
    "    \n",
    "    category = video.loc[video.title.str.endswith(v)][\"category_id\"].values[0]\n",
    "    video_category = video.loc[video['category_id']==category]\n",
    "    \n",
    "    score = []\n",
    "    \n",
    "    for t in video_category.title_clean:\n",
    "        score += [get_jaccard_sim(a, t)]\n",
    "    video_category[\"title_score\"] = score\n",
    "    \n",
    "    video_category = video_category.loc[video_category['title_score'] < 1].sort_values(by=['title_score'], ascending=False)\n",
    "    return video_category.reset_index().drop(columns=['index', 'title_clean'])[0:25]\n",
    "\n",
    "#similar_video_titles = find_similar_title(\"#ProudToCreate: Pride 2018\")\n",
    "similar_video_titles = find_similar_title(\"Marshmello - FLY (Official Music Video)\")"
   ]
  },
  {
   "cell_type": "code",
   "execution_count": 417,
   "metadata": {},
   "outputs": [
    {
     "data": {
      "text/plain": [
       "'dua lipa  idgaf official music video'"
      ]
     },
     "execution_count": 417,
     "metadata": {},
     "output_type": "execute_result"
    }
   ],
   "source": [
    "preprocess_text(\"Dua Lipa - IDGAF (Official Music Video)\")"
   ]
  },
  {
   "cell_type": "code",
   "execution_count": null,
   "metadata": {},
   "outputs": [],
   "source": [
    "video[\"title_clean\"]"
   ]
  },
  {
   "cell_type": "code",
   "execution_count": 477,
   "metadata": {},
   "outputs": [
    {
     "data": {
      "text/html": [
       "<div>\n",
       "<style scoped>\n",
       "    .dataframe tbody tr th:only-of-type {\n",
       "        vertical-align: middle;\n",
       "    }\n",
       "\n",
       "    .dataframe tbody tr th {\n",
       "        vertical-align: top;\n",
       "    }\n",
       "\n",
       "    .dataframe thead th {\n",
       "        text-align: right;\n",
       "    }\n",
       "</style>\n",
       "<table border=\"1\" class=\"dataframe\">\n",
       "  <thead>\n",
       "    <tr style=\"text-align: right;\">\n",
       "      <th></th>\n",
       "      <th>title</th>\n",
       "      <th>category_id</th>\n",
       "      <th>title_score</th>\n",
       "    </tr>\n",
       "  </thead>\n",
       "  <tbody>\n",
       "    <tr>\n",
       "      <th>0</th>\n",
       "      <td>Marshmello - Blocks (Official Music Video)</td>\n",
       "      <td>10</td>\n",
       "      <td>0.666667</td>\n",
       "    </tr>\n",
       "    <tr>\n",
       "      <th>1</th>\n",
       "      <td>Marshmello - You &amp; Me (Official Music Video)</td>\n",
       "      <td>10</td>\n",
       "      <td>0.571429</td>\n",
       "    </tr>\n",
       "    <tr>\n",
       "      <th>2</th>\n",
       "      <td>Marshmello - Love U (Official Music Video)</td>\n",
       "      <td>10</td>\n",
       "      <td>0.571429</td>\n",
       "    </tr>\n",
       "    <tr>\n",
       "      <th>3</th>\n",
       "      <td>Marshmello - LoVe U (Official Music Video)</td>\n",
       "      <td>10</td>\n",
       "      <td>0.571429</td>\n",
       "    </tr>\n",
       "    <tr>\n",
       "      <th>4</th>\n",
       "      <td>Marshmello - Take It Back (Official Music Video)</td>\n",
       "      <td>10</td>\n",
       "      <td>0.500000</td>\n",
       "    </tr>\n",
       "    <tr>\n",
       "      <th>5</th>\n",
       "      <td>Marshmello &amp; Anne-Marie - FRIENDS (Music Video...</td>\n",
       "      <td>10</td>\n",
       "      <td>0.444444</td>\n",
       "    </tr>\n",
       "    <tr>\n",
       "      <th>6</th>\n",
       "      <td>Marshmello x Lil Peep - Spotlight (Official Mu...</td>\n",
       "      <td>10</td>\n",
       "      <td>0.444444</td>\n",
       "    </tr>\n",
       "    <tr>\n",
       "      <th>7</th>\n",
       "      <td>Ghost - Rats (Official Music Video)</td>\n",
       "      <td>10</td>\n",
       "      <td>0.428571</td>\n",
       "    </tr>\n",
       "    <tr>\n",
       "      <th>8</th>\n",
       "      <td>Justice - Stop (Official Music Video)</td>\n",
       "      <td>10</td>\n",
       "      <td>0.428571</td>\n",
       "    </tr>\n",
       "    <tr>\n",
       "      <th>9</th>\n",
       "      <td>PENTAGON(펜타곤) - '빛나리(Shine)' Official Music Video</td>\n",
       "      <td>10</td>\n",
       "      <td>0.428571</td>\n",
       "    </tr>\n",
       "  </tbody>\n",
       "</table>\n",
       "</div>"
      ],
      "text/plain": [
       "                                               title  category_id  title_score\n",
       "0         Marshmello - Blocks (Official Music Video)           10     0.666667\n",
       "1       Marshmello - You & Me (Official Music Video)           10     0.571429\n",
       "2         Marshmello - Love U (Official Music Video)           10     0.571429\n",
       "3         Marshmello - LoVe U (Official Music Video)           10     0.571429\n",
       "4   Marshmello - Take It Back (Official Music Video)           10     0.500000\n",
       "5  Marshmello & Anne-Marie - FRIENDS (Music Video...           10     0.444444\n",
       "6  Marshmello x Lil Peep - Spotlight (Official Mu...           10     0.444444\n",
       "7                Ghost - Rats (Official Music Video)           10     0.428571\n",
       "8              Justice - Stop (Official Music Video)           10     0.428571\n",
       "9  PENTAGON(펜타곤) - '빛나리(Shine)' Official Music Video           10     0.428571"
      ]
     },
     "execution_count": 477,
     "metadata": {},
     "output_type": "execute_result"
    }
   ],
   "source": [
    "similar_video_titles.head(10)"
   ]
  },
  {
   "cell_type": "markdown",
   "metadata": {},
   "source": [
    "### 2.2 Ranking Based on Tags"
   ]
  },
  {
   "cell_type": "code",
   "execution_count": 419,
   "metadata": {},
   "outputs": [
    {
     "data": {
      "text/plain": [
       "'PS4 Battle Royale|\"PS4 Pro Battle Royale\"|\"Battle Royale Win\"|\"Fornite Duo\"|\"Fortnite Squads\"|\"solo\"|\"Fortnite\"|\"Umbrella\"|\"Fortnite Gameplay\"|\"Fortnite PS4\"|\"Fortnite Stream\"|\"Fortnite Game\"|\"Fortnite Tips\"|\"Fortnite Tricks\"|\"Fortnight\"|\"Fort Night\"|\"Fort Nite\"|\"fortnite br\"|\"fortnite pubg\"|\"fornite battle royale\"|\"fortnight br\"|\"fortnight\"|\"fortnite br solo\"|\"fortnite solo\"|\"fortnite new update\"|\"fortnite new city\"|\"fortnite patch\"|\"Fortnite #1 World Rank\"'"
      ]
     },
     "execution_count": 419,
     "metadata": {},
     "output_type": "execute_result"
    }
   ],
   "source": [
    "tags = clean_vid_data[\"tags\"]\n",
    "tags[1]"
   ]
  },
  {
   "cell_type": "code",
   "execution_count": 420,
   "metadata": {},
   "outputs": [],
   "source": [
    "def map_titles_to_tags(category):\n",
    "    category_df = category_group(category)\n",
    "    title_tags_dict = {}\n",
    "    for i in range(len(category_df)):\n",
    "        video_title = category_df[\"title\"][i]\n",
    "        video_tags = find_tags(video_title, category_df)\n",
    "        title_tags_dict[video_title] = video_tags\n",
    "    return title_tags_dict"
   ]
  },
  {
   "cell_type": "code",
   "execution_count": 58,
   "metadata": {},
   "outputs": [],
   "source": [
    "# def find_category_tags(interested_category):\n",
    "#     tags_df = pd.DataFrame()\n",
    "#     title_tags_dict = {}\n",
    "#     trimed_df = category_group(interested_category)\n",
    "#     for i in range(len(trimed_df[\"tags\"])):\n",
    "        \n",
    "#         video_title = trimed_df[\"title\"][i]\n",
    "#         ls = trimed_df[\"tags\"][i]\n",
    "#         individual_tags = ls.split(\"|\")\n",
    "#         for it in individual_tags[0:5]:\n",
    "#             if it != '[none]':\n",
    "#                 tags_df = tags_df.append({\"Tag Name\": it, \"Video Title\": video_title}, ignore_index=True)\n",
    "#     return tags_df"
   ]
  },
  {
   "cell_type": "code",
   "execution_count": 502,
   "metadata": {},
   "outputs": [],
   "source": [
    "def find_similar_tag_video(title):\n",
    "    \n",
    "    category = video.loc[video.title.str.endswith(title)][\"category_id\"].values[0]\n",
    "    #category_df = video.loc[video['category_id']==category]\n",
    "    \n",
    "    category_df = category_group(category)\n",
    "    #return category_df\n",
    "    interested_tags = find_tags(title, category_df)\n",
    "    category_df = category_df[[\"title\"]]\n",
    "#     print(category)\n",
    "#     print(interested_tags)\n",
    "    title_tag_mapping = map_titles_to_tags(category)\n",
    "    score = []\n",
    "    i = 0\n",
    "    for title, tags in title_tag_mapping.items():\n",
    "        score.append(get_jaccard_sim_list(interested_tags, tags))\n",
    "    \n",
    "    category_df[\"tag_score\"] = score\n",
    "    \n",
    "    category_df = category_df.loc[category_df['tag_score'] > 0].loc[category_df['tag_score'] != 1].loc[category_df['tag_score'] != len(interested_tags)].sort_values(by = ['tag_score'], ascending=False)\n",
    "\n",
    "    return category_df.reset_index().drop(columns=['index'])[0:25]\n",
    "\n",
    "#similar_videos_tags = find_similar_tag_video(\"Calvin Harris, Dua Lipa - One Kiss (Lyric Video)\")\n",
    "similar_videos_tags = find_similar_tag_video(\"Dua Lipa - IDGAF (Official Music Video)\")  \n",
    "#similar_videos_tags = find_similar_tag_video(\"#ProudToCreate: Pride 2018\")"
   ]
  },
  {
   "cell_type": "code",
   "execution_count": 465,
   "metadata": {},
   "outputs": [
    {
     "data": {
      "text/html": [
       "<div>\n",
       "<style scoped>\n",
       "    .dataframe tbody tr th:only-of-type {\n",
       "        vertical-align: middle;\n",
       "    }\n",
       "\n",
       "    .dataframe tbody tr th {\n",
       "        vertical-align: top;\n",
       "    }\n",
       "\n",
       "    .dataframe thead th {\n",
       "        text-align: right;\n",
       "    }\n",
       "</style>\n",
       "<table border=\"1\" class=\"dataframe\">\n",
       "  <thead>\n",
       "    <tr style=\"text-align: right;\">\n",
       "      <th></th>\n",
       "      <th>title</th>\n",
       "      <th>tag_score</th>\n",
       "    </tr>\n",
       "  </thead>\n",
       "  <tbody>\n",
       "    <tr>\n",
       "      <th>0</th>\n",
       "      <td>Kendrick Lamar DAMN | Best Rap Album | 60th GR...</td>\n",
       "      <td>2.0</td>\n",
       "    </tr>\n",
       "    <tr>\n",
       "      <th>1</th>\n",
       "      <td>Don Diablo ft. Ansel Elgort - Believe | Lyric ...</td>\n",
       "      <td>2.0</td>\n",
       "    </tr>\n",
       "    <tr>\n",
       "      <th>2</th>\n",
       "      <td>Bruno Mars Wins Album Of The Year | Acceptance...</td>\n",
       "      <td>2.0</td>\n",
       "    </tr>\n",
       "    <tr>\n",
       "      <th>3</th>\n",
       "      <td>Azealia Banks - Anna Wintour</td>\n",
       "      <td>2.0</td>\n",
       "    </tr>\n",
       "    <tr>\n",
       "      <th>4</th>\n",
       "      <td>Dua Lipa - New Rules (Live at The BRIT Awards ...</td>\n",
       "      <td>2.0</td>\n",
       "    </tr>\n",
       "    <tr>\n",
       "      <th>5</th>\n",
       "      <td>Troye Sivan - Dance To This (Official Audio) f...</td>\n",
       "      <td>2.0</td>\n",
       "    </tr>\n",
       "    <tr>\n",
       "      <th>6</th>\n",
       "      <td>Bruno Mars Wins Record Of The Year | Acceptanc...</td>\n",
       "      <td>2.0</td>\n",
       "    </tr>\n",
       "    <tr>\n",
       "      <th>7</th>\n",
       "      <td>Who's Performing at the 2018 GRAMMYs?</td>\n",
       "      <td>2.0</td>\n",
       "    </tr>\n",
       "    <tr>\n",
       "      <th>8</th>\n",
       "      <td>Nina Nesbitt - Somebody Special (Official Video)</td>\n",
       "      <td>1.0</td>\n",
       "    </tr>\n",
       "    <tr>\n",
       "      <th>9</th>\n",
       "      <td>Meghan Trainor - Can't Dance (Audio)</td>\n",
       "      <td>1.0</td>\n",
       "    </tr>\n",
       "  </tbody>\n",
       "</table>\n",
       "</div>"
      ],
      "text/plain": [
       "                                               title  tag_score\n",
       "0  Kendrick Lamar DAMN | Best Rap Album | 60th GR...        2.0\n",
       "1  Don Diablo ft. Ansel Elgort - Believe | Lyric ...        2.0\n",
       "2  Bruno Mars Wins Album Of The Year | Acceptance...        2.0\n",
       "3                       Azealia Banks - Anna Wintour        2.0\n",
       "4  Dua Lipa - New Rules (Live at The BRIT Awards ...        2.0\n",
       "5  Troye Sivan - Dance To This (Official Audio) f...        2.0\n",
       "6  Bruno Mars Wins Record Of The Year | Acceptanc...        2.0\n",
       "7              Who's Performing at the 2018 GRAMMYs?        2.0\n",
       "8   Nina Nesbitt - Somebody Special (Official Video)        1.0\n",
       "9               Meghan Trainor - Can't Dance (Audio)        1.0"
      ]
     },
     "execution_count": 465,
     "metadata": {},
     "output_type": "execute_result"
    }
   ],
   "source": [
    "similar_videos_tags.head(10)"
   ]
  },
  {
   "cell_type": "code",
   "execution_count": 454,
   "metadata": {},
   "outputs": [
    {
     "data": {
      "text/plain": [
       "['calvin harris',\n",
       " '\"calvin harris one kiss\"',\n",
       " '\"calvin harris dua lipa one kiss\"',\n",
       " '\"dua lipa one kiss\"',\n",
       " '\"one kiss\"',\n",
       " '\"one kiss lyrics\"',\n",
       " '\"calvin harris one kiss lyrics\"',\n",
       " '\"calvin harris dua lipa one kiss live\"',\n",
       " '\"calvin harris dua lipa one kiss lyrics\"',\n",
       " '\"dua lipa one kiss lyrics\"',\n",
       " '\"dua lipa one kiss live\"',\n",
       " '\"calvin harris feels\"',\n",
       " '\"calvin harris summer\"',\n",
       " '\"calvin harris nuh ready\"',\n",
       " '\"calvin harris thinking about you\"',\n",
       " '\"calvin harris my way\"',\n",
       " '\"calvin harris feel so close\"',\n",
       " '\"calvin\"',\n",
       " '\"harris\"']"
      ]
     },
     "execution_count": 454,
     "metadata": {},
     "output_type": "execute_result"
    }
   ],
   "source": [
    "category_df10 = category_group(10)\n",
    "a0 = find_tags(\"Calvin Harris, Dua Lipa - One Kiss (Lyric Video)\", category_df10)#\"Dua Lipa - IDGAF (Official Music Video)\", category_df10)\n",
    "a0"
   ]
  },
  {
   "cell_type": "code",
   "execution_count": 340,
   "metadata": {},
   "outputs": [
    {
     "data": {
      "text/plain": [
       "['Azealia',\n",
       " '\"Banks\"',\n",
       " '\"Anna\"',\n",
       " '\"Wintour\"',\n",
       " '\"eOne\"',\n",
       " '\"Music\"',\n",
       " '\"Dance\"',\n",
       " '\"Alternative/Indie\"',\n",
       " '\"Electronic\"',\n",
       " '\"Club/Dance\"',\n",
       " '\"Pop\"']"
      ]
     },
     "execution_count": 340,
     "metadata": {},
     "output_type": "execute_result"
    }
   ],
   "source": [
    "a1 = find_tags(\"Azealia Banks - Anna Wintour\", category_df10)\n",
    "a1"
   ]
  },
  {
   "cell_type": "code",
   "execution_count": 339,
   "metadata": {},
   "outputs": [
    {
     "data": {
      "text/plain": [
       "0.06060606060606061"
      ]
     },
     "execution_count": 339,
     "metadata": {},
     "output_type": "execute_result"
    }
   ],
   "source": [
    "get_jaccard_sim_list(a0, a1)"
   ]
  },
  {
   "cell_type": "code",
   "execution_count": null,
   "metadata": {},
   "outputs": [],
   "source": []
  },
  {
   "cell_type": "code",
   "execution_count": 342,
   "metadata": {},
   "outputs": [
    {
     "data": {
      "text/plain": [
       "['dua lipa',\n",
       " '\"golden slumbers\"',\n",
       " '\"xmas songs\"',\n",
       " '\"christmas music\"',\n",
       " '\"john lewis advert\"',\n",
       " '\"christmas\"',\n",
       " '\"festive\"']"
      ]
     },
     "execution_count": 342,
     "metadata": {},
     "output_type": "execute_result"
    }
   ],
   "source": [
    "a2 = find_tags(\"Dua Lipa - Golden Slumbers\", category_df10)\n",
    "a2"
   ]
  },
  {
   "cell_type": "code",
   "execution_count": 343,
   "metadata": {},
   "outputs": [
    {
     "data": {
      "text/plain": [
       "0.03333333333333333"
      ]
     },
     "execution_count": 343,
     "metadata": {},
     "output_type": "execute_result"
    }
   ],
   "source": [
    "get_jaccard_sim_list(a0, a2)"
   ]
  },
  {
   "cell_type": "markdown",
   "metadata": {},
   "source": [
    "## Putting It All Together"
   ]
  },
  {
   "cell_type": "code",
   "execution_count": 498,
   "metadata": {},
   "outputs": [],
   "source": [
    "def make_recommendations(title):\n",
    "    \n",
    "    top_titles = find_similar_title(title)\n",
    "    top_tags = find_similar_tag_video(title)\n",
    "    \n",
    "    category = top_titles[\"category_id\"][0]\n",
    "    category_df = category_group(category)\n",
    "    \n",
    "    top_titles = top_titles.drop(columns=['category_id'])\n",
    "    interested_tags = find_tags(title, category_df)\n",
    "    cleaned_title = preprocess_text(title)\n",
    "    title_set = set(cleaned_title.split())\n",
    "    \n",
    "    title_supplement_score = []\n",
    "    for t in top_titles[\"title\"]:\n",
    "        tags = find_tags(t, category_df)\n",
    "        title_supplement_score.append(get_jaccard_sim_list(interested_tags, tags))\n",
    "    \n",
    "    tags_supplement_score = []\n",
    "    for t in top_tags[\"title\"]:        \n",
    "        tags_supplement_score.append(get_jaccard_sim(title_set, t))\n",
    "    \n",
    "    top_titles[\"tag_score\"] = title_supplement_score\n",
    "    top_tags[\"title_score\"] = tags_supplement_score     \n",
    "    \n",
    "    combined_top = top_titles.append(top_tags, ignore_index = True)\n",
    "    combined_top[\"Combined Score\"] = np.array(combined_top[\"tag_score\"]) +  np.array(combined_top[\"title_score\"])\n",
    "    \n",
    "    combined_top = combined_top.sort_values(by = ['Combined Score'], ascending=False).reset_index().drop(columns=['index'])\n",
    "    return combined_top"
   ]
  },
  {
   "cell_type": "code",
   "execution_count": 504,
   "metadata": {},
   "outputs": [
    {
     "data": {
      "text/html": [
       "<div>\n",
       "<style scoped>\n",
       "    .dataframe tbody tr th:only-of-type {\n",
       "        vertical-align: middle;\n",
       "    }\n",
       "\n",
       "    .dataframe tbody tr th {\n",
       "        vertical-align: top;\n",
       "    }\n",
       "\n",
       "    .dataframe thead th {\n",
       "        text-align: right;\n",
       "    }\n",
       "</style>\n",
       "<table border=\"1\" class=\"dataframe\">\n",
       "  <thead>\n",
       "    <tr style=\"text-align: right;\">\n",
       "      <th></th>\n",
       "      <th>tag_score</th>\n",
       "      <th>title</th>\n",
       "      <th>title_score</th>\n",
       "      <th>Combined Score</th>\n",
       "    </tr>\n",
       "  </thead>\n",
       "  <tbody>\n",
       "    <tr>\n",
       "      <th>0</th>\n",
       "      <td>0.000000</td>\n",
       "      <td>Calvin Harris, Dua Lipa - One Kiss (Official V...</td>\n",
       "      <td>0.400</td>\n",
       "      <td>0.400000</td>\n",
       "    </tr>\n",
       "    <tr>\n",
       "      <th>1</th>\n",
       "      <td>0.020833</td>\n",
       "      <td>Veno - Dolce (Official Music Video)</td>\n",
       "      <td>0.375</td>\n",
       "      <td>0.395833</td>\n",
       "    </tr>\n",
       "    <tr>\n",
       "      <th>2</th>\n",
       "      <td>0.000000</td>\n",
       "      <td>Marshmello - Blocks (Official Music Video)</td>\n",
       "      <td>0.375</td>\n",
       "      <td>0.375000</td>\n",
       "    </tr>\n",
       "    <tr>\n",
       "      <th>3</th>\n",
       "      <td>0.000000</td>\n",
       "      <td>Justice - Stop (Official Music Video)</td>\n",
       "      <td>0.375</td>\n",
       "      <td>0.375000</td>\n",
       "    </tr>\n",
       "    <tr>\n",
       "      <th>4</th>\n",
       "      <td>0.000000</td>\n",
       "      <td>Marshmello - Fly (Official Music Video)</td>\n",
       "      <td>0.375</td>\n",
       "      <td>0.375000</td>\n",
       "    </tr>\n",
       "    <tr>\n",
       "      <th>5</th>\n",
       "      <td>0.000000</td>\n",
       "      <td>Cam - Diane (Official Music Video)</td>\n",
       "      <td>0.375</td>\n",
       "      <td>0.375000</td>\n",
       "    </tr>\n",
       "    <tr>\n",
       "      <th>6</th>\n",
       "      <td>0.000000</td>\n",
       "      <td>Marshmello - FLY (Official Music Video)</td>\n",
       "      <td>0.375</td>\n",
       "      <td>0.375000</td>\n",
       "    </tr>\n",
       "    <tr>\n",
       "      <th>7</th>\n",
       "      <td>0.000000</td>\n",
       "      <td>DDG - Arguments (Official Music Video)</td>\n",
       "      <td>0.375</td>\n",
       "      <td>0.375000</td>\n",
       "    </tr>\n",
       "    <tr>\n",
       "      <th>8</th>\n",
       "      <td>0.000000</td>\n",
       "      <td>Ghost - Rats (Official Music Video)</td>\n",
       "      <td>0.375</td>\n",
       "      <td>0.375000</td>\n",
       "    </tr>\n",
       "    <tr>\n",
       "      <th>9</th>\n",
       "      <td>0.000000</td>\n",
       "      <td>PENTAGON(펜타곤) - '빛나리(Shine)' Official Music Video</td>\n",
       "      <td>0.375</td>\n",
       "      <td>0.375000</td>\n",
       "    </tr>\n",
       "  </tbody>\n",
       "</table>\n",
       "</div>"
      ],
      "text/plain": [
       "   tag_score                                              title  title_score  \\\n",
       "0   0.000000  Calvin Harris, Dua Lipa - One Kiss (Official V...        0.400   \n",
       "1   0.020833                Veno - Dolce (Official Music Video)        0.375   \n",
       "2   0.000000         Marshmello - Blocks (Official Music Video)        0.375   \n",
       "3   0.000000              Justice - Stop (Official Music Video)        0.375   \n",
       "4   0.000000            Marshmello - Fly (Official Music Video)        0.375   \n",
       "5   0.000000                 Cam - Diane (Official Music Video)        0.375   \n",
       "6   0.000000            Marshmello - FLY (Official Music Video)        0.375   \n",
       "7   0.000000             DDG - Arguments (Official Music Video)        0.375   \n",
       "8   0.000000                Ghost - Rats (Official Music Video)        0.375   \n",
       "9   0.000000  PENTAGON(펜타곤) - '빛나리(Shine)' Official Music Video        0.375   \n",
       "\n",
       "   Combined Score  \n",
       "0        0.400000  \n",
       "1        0.395833  \n",
       "2        0.375000  \n",
       "3        0.375000  \n",
       "4        0.375000  \n",
       "5        0.375000  \n",
       "6        0.375000  \n",
       "7        0.375000  \n",
       "8        0.375000  \n",
       "9        0.375000  "
      ]
     },
     "execution_count": 504,
     "metadata": {},
     "output_type": "execute_result"
    }
   ],
   "source": [
    "make_recommendations(\"Dua Lipa - IDGAF (Official Music Video)\").head(10)"
   ]
  },
  {
   "cell_type": "code",
   "execution_count": 505,
   "metadata": {},
   "outputs": [
    {
     "data": {
      "text/html": [
       "<div>\n",
       "<style scoped>\n",
       "    .dataframe tbody tr th:only-of-type {\n",
       "        vertical-align: middle;\n",
       "    }\n",
       "\n",
       "    .dataframe tbody tr th {\n",
       "        vertical-align: top;\n",
       "    }\n",
       "\n",
       "    .dataframe thead th {\n",
       "        text-align: right;\n",
       "    }\n",
       "</style>\n",
       "<table border=\"1\" class=\"dataframe\">\n",
       "  <thead>\n",
       "    <tr style=\"text-align: right;\">\n",
       "      <th></th>\n",
       "      <th>tag_score</th>\n",
       "      <th>title</th>\n",
       "      <th>title_score</th>\n",
       "      <th>Combined Score</th>\n",
       "    </tr>\n",
       "  </thead>\n",
       "  <tbody>\n",
       "    <tr>\n",
       "      <th>0</th>\n",
       "      <td>0.000000</td>\n",
       "      <td>LGBT Pride | Brooklyn Nine-Nine</td>\n",
       "      <td>0.200000</td>\n",
       "      <td>0.200000</td>\n",
       "    </tr>\n",
       "    <tr>\n",
       "      <th>1</th>\n",
       "      <td>0.073529</td>\n",
       "      <td>'Shoes Everywhere!' Out Of The Closet w/ Kimor...</td>\n",
       "      <td>0.000000</td>\n",
       "      <td>0.073529</td>\n",
       "    </tr>\n",
       "    <tr>\n",
       "      <th>2</th>\n",
       "      <td>0.000000</td>\n",
       "      <td>Dragon Ball Super Episode 122 English Subbed E...</td>\n",
       "      <td>0.071429</td>\n",
       "      <td>0.071429</td>\n",
       "    </tr>\n",
       "    <tr>\n",
       "      <th>3</th>\n",
       "      <td>0.049383</td>\n",
       "      <td>Top 10 Cringiest Moments from RuPaul's Drag Race</td>\n",
       "      <td>0.000000</td>\n",
       "      <td>0.049383</td>\n",
       "    </tr>\n",
       "    <tr>\n",
       "      <th>4</th>\n",
       "      <td>0.028169</td>\n",
       "      <td>Jessica Chastain Is Not Afraid to End Kenan Th...</td>\n",
       "      <td>0.000000</td>\n",
       "      <td>0.028169</td>\n",
       "    </tr>\n",
       "    <tr>\n",
       "      <th>5</th>\n",
       "      <td>0.027027</td>\n",
       "      <td>Queer Eye | Theme Song (All Things) Feat. Bett...</td>\n",
       "      <td>0.000000</td>\n",
       "      <td>0.027027</td>\n",
       "    </tr>\n",
       "    <tr>\n",
       "      <th>6</th>\n",
       "      <td>0.026667</td>\n",
       "      <td>Driver Disagrees With Jazz Over Raising Money ...</td>\n",
       "      <td>0.000000</td>\n",
       "      <td>0.026667</td>\n",
       "    </tr>\n",
       "    <tr>\n",
       "      <th>7</th>\n",
       "      <td>0.026667</td>\n",
       "      <td>Driver Disagrees With Jazz Over Raising Money ...</td>\n",
       "      <td>0.000000</td>\n",
       "      <td>0.026667</td>\n",
       "    </tr>\n",
       "    <tr>\n",
       "      <th>8</th>\n",
       "      <td>0.026667</td>\n",
       "      <td>Hateful Driver Verbally Attacks Jazz And Frien...</td>\n",
       "      <td>0.000000</td>\n",
       "      <td>0.026667</td>\n",
       "    </tr>\n",
       "    <tr>\n",
       "      <th>9</th>\n",
       "      <td>0.026316</td>\n",
       "      <td>Marvel Studios' Avengers: Infinity War - Offic...</td>\n",
       "      <td>0.000000</td>\n",
       "      <td>0.026316</td>\n",
       "    </tr>\n",
       "  </tbody>\n",
       "</table>\n",
       "</div>"
      ],
      "text/plain": [
       "   tag_score                                              title  title_score  \\\n",
       "0   0.000000                    LGBT Pride | Brooklyn Nine-Nine     0.200000   \n",
       "1   0.073529  'Shoes Everywhere!' Out Of The Closet w/ Kimor...     0.000000   \n",
       "2   0.000000  Dragon Ball Super Episode 122 English Subbed E...     0.071429   \n",
       "3   0.049383   Top 10 Cringiest Moments from RuPaul's Drag Race     0.000000   \n",
       "4   0.028169  Jessica Chastain Is Not Afraid to End Kenan Th...     0.000000   \n",
       "5   0.027027  Queer Eye | Theme Song (All Things) Feat. Bett...     0.000000   \n",
       "6   0.026667  Driver Disagrees With Jazz Over Raising Money ...     0.000000   \n",
       "7   0.026667  Driver Disagrees With Jazz Over Raising Money ...     0.000000   \n",
       "8   0.026667  Hateful Driver Verbally Attacks Jazz And Frien...     0.000000   \n",
       "9   0.026316  Marvel Studios' Avengers: Infinity War - Offic...     0.000000   \n",
       "\n",
       "   Combined Score  \n",
       "0        0.200000  \n",
       "1        0.073529  \n",
       "2        0.071429  \n",
       "3        0.049383  \n",
       "4        0.028169  \n",
       "5        0.027027  \n",
       "6        0.026667  \n",
       "7        0.026667  \n",
       "8        0.026667  \n",
       "9        0.026316  "
      ]
     },
     "execution_count": 505,
     "metadata": {},
     "output_type": "execute_result"
    }
   ],
   "source": [
    "make_recommendations(\"#ProudToCreate: Pride 2018\").head(10)"
   ]
  },
  {
   "cell_type": "code",
   "execution_count": 506,
   "metadata": {},
   "outputs": [
    {
     "data": {
      "text/html": [
       "<div>\n",
       "<style scoped>\n",
       "    .dataframe tbody tr th:only-of-type {\n",
       "        vertical-align: middle;\n",
       "    }\n",
       "\n",
       "    .dataframe tbody tr th {\n",
       "        vertical-align: top;\n",
       "    }\n",
       "\n",
       "    .dataframe thead th {\n",
       "        text-align: right;\n",
       "    }\n",
       "</style>\n",
       "<table border=\"1\" class=\"dataframe\">\n",
       "  <thead>\n",
       "    <tr style=\"text-align: right;\">\n",
       "      <th></th>\n",
       "      <th>tag_score</th>\n",
       "      <th>title</th>\n",
       "      <th>title_score</th>\n",
       "      <th>Combined Score</th>\n",
       "    </tr>\n",
       "  </thead>\n",
       "  <tbody>\n",
       "    <tr>\n",
       "      <th>0</th>\n",
       "      <td>1.000000</td>\n",
       "      <td>NEW UPDATE #1 WORLD RANKED FORTNITE SOLO PLAYE...</td>\n",
       "      <td>0.444444</td>\n",
       "      <td>1.444444</td>\n",
       "    </tr>\n",
       "    <tr>\n",
       "      <th>1</th>\n",
       "      <td>0.903226</td>\n",
       "      <td>🔴 #1 World Ranked | 2,532 Solo Wins | Fortnite...</td>\n",
       "      <td>0.500000</td>\n",
       "      <td>1.403226</td>\n",
       "    </tr>\n",
       "    <tr>\n",
       "      <th>2</th>\n",
       "      <td>1.000000</td>\n",
       "      <td>#1 World Ranked - 1,700 Solo Wins -  New Minig...</td>\n",
       "      <td>0.333333</td>\n",
       "      <td>1.333333</td>\n",
       "    </tr>\n",
       "    <tr>\n",
       "      <th>3</th>\n",
       "      <td>0.903226</td>\n",
       "      <td>FREE VBUCKS TODAY | FORTNITE WORLD RECORD 2,75...</td>\n",
       "      <td>0.400000</td>\n",
       "      <td>1.303226</td>\n",
       "    </tr>\n",
       "    <tr>\n",
       "      <th>4</th>\n",
       "      <td>0.903226</td>\n",
       "      <td>FORTNITE WORLD RECORD 2,732 SOLO WINS - New Fo...</td>\n",
       "      <td>0.363636</td>\n",
       "      <td>1.266862</td>\n",
       "    </tr>\n",
       "    <tr>\n",
       "      <th>5</th>\n",
       "      <td>0.666667</td>\n",
       "      <td>#1 World Record 3,225 Solo Wins | Fortnite Liv...</td>\n",
       "      <td>0.500000</td>\n",
       "      <td>1.166667</td>\n",
       "    </tr>\n",
       "    <tr>\n",
       "      <th>6</th>\n",
       "      <td>0.628571</td>\n",
       "      <td>#1 WORLD RECORD 3,288 SOLO WINS</td>\n",
       "      <td>0.500000</td>\n",
       "      <td>1.128571</td>\n",
       "    </tr>\n",
       "    <tr>\n",
       "      <th>7</th>\n",
       "      <td>0.628571</td>\n",
       "      <td>#1 World Record 3,359 Solo Wins | Fortnite Liv...</td>\n",
       "      <td>0.500000</td>\n",
       "      <td>1.128571</td>\n",
       "    </tr>\n",
       "    <tr>\n",
       "      <th>8</th>\n",
       "      <td>0.666667</td>\n",
       "      <td>#1 WORLD RANKED 1463 SOLO WINS! - FORTNITE BAT...</td>\n",
       "      <td>0.400000</td>\n",
       "      <td>1.066667</td>\n",
       "    </tr>\n",
       "    <tr>\n",
       "      <th>9</th>\n",
       "      <td>0.903226</td>\n",
       "      <td>FREE VBUCKS TODAY | FORTNITE WORLD RECORD 2,75...</td>\n",
       "      <td>0.000000</td>\n",
       "      <td>0.903226</td>\n",
       "    </tr>\n",
       "  </tbody>\n",
       "</table>\n",
       "</div>"
      ],
      "text/plain": [
       "   tag_score                                              title  title_score  \\\n",
       "0   1.000000  NEW UPDATE #1 WORLD RANKED FORTNITE SOLO PLAYE...     0.444444   \n",
       "1   0.903226  🔴 #1 World Ranked | 2,532 Solo Wins | Fortnite...     0.500000   \n",
       "2   1.000000  #1 World Ranked - 1,700 Solo Wins -  New Minig...     0.333333   \n",
       "3   0.903226  FREE VBUCKS TODAY | FORTNITE WORLD RECORD 2,75...     0.400000   \n",
       "4   0.903226  FORTNITE WORLD RECORD 2,732 SOLO WINS - New Fo...     0.363636   \n",
       "5   0.666667  #1 World Record 3,225 Solo Wins | Fortnite Liv...     0.500000   \n",
       "6   0.628571                    #1 WORLD RECORD 3,288 SOLO WINS     0.500000   \n",
       "7   0.628571  #1 World Record 3,359 Solo Wins | Fortnite Liv...     0.500000   \n",
       "8   0.666667  #1 WORLD RANKED 1463 SOLO WINS! - FORTNITE BAT...     0.400000   \n",
       "9   0.903226  FREE VBUCKS TODAY | FORTNITE WORLD RECORD 2,75...     0.000000   \n",
       "\n",
       "   Combined Score  \n",
       "0        1.444444  \n",
       "1        1.403226  \n",
       "2        1.333333  \n",
       "3        1.303226  \n",
       "4        1.266862  \n",
       "5        1.166667  \n",
       "6        1.128571  \n",
       "7        1.128571  \n",
       "8        1.066667  \n",
       "9        0.903226  "
      ]
     },
     "execution_count": 506,
     "metadata": {},
     "output_type": "execute_result"
    }
   ],
   "source": [
    "make_recommendations(\"#1 Fortnite World Rank - 2,330 Solo Wins!\").head(10)"
   ]
  },
  {
   "cell_type": "code",
   "execution_count": null,
   "metadata": {},
   "outputs": [],
   "source": []
  }
 ],
 "metadata": {
  "anaconda-cloud": {},
  "kernelspec": {
   "display_name": "w207Proj",
   "language": "python",
   "name": "w207proj"
  },
  "language_info": {
   "codemirror_mode": {
    "name": "ipython",
    "version": 3
   },
   "file_extension": ".py",
   "mimetype": "text/x-python",
   "name": "python",
   "nbconvert_exporter": "python",
   "pygments_lexer": "ipython3",
   "version": "3.7.2"
  }
 },
 "nbformat": 4,
 "nbformat_minor": 2
}
