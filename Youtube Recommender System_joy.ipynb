{
 "cells": [
  {
   "cell_type": "markdown",
   "metadata": {},
   "source": [
    "# Youtube Recommender System"
   ]
  },
  {
   "cell_type": "markdown",
   "metadata": {},
   "source": [
    "### Group Meeting: 12/3/2019"
   ]
  },
  {
   "cell_type": "code",
   "execution_count": 1,
   "metadata": {},
   "outputs": [],
   "source": [
    "# This tells matplotlib not to try opening a new window for each plot.\n",
    "%matplotlib inline\n",
    "\n",
    "# General libraries.\n",
    "import re\n",
    "import numpy as np\n",
    "import matplotlib.pyplot as plt\n",
    "\n",
    "# SK-learn libraries for learning.\n",
    "from sklearn.pipeline import Pipeline\n",
    "from sklearn.neighbors import KNeighborsClassifier\n",
    "from sklearn.linear_model import LogisticRegression\n",
    "from sklearn.naive_bayes import BernoulliNB\n",
    "from sklearn.naive_bayes import MultinomialNB\n",
    "\n",
    "# SK-learn libraries for evaluation.\n",
    "from sklearn.metrics import confusion_matrix\n",
    "from sklearn import metrics\n",
    "from sklearn.metrics import classification_report\n",
    "\n",
    "# SK-learn libraries for feature extraction from text.\n",
    "from sklearn.feature_extraction.text import *\n",
    "\n",
    "import pandas as pd\n",
    "import nltk\n",
    "\n",
    "from sklearn.tree import DecisionTreeClassifier \n",
    "from sklearn.model_selection import train_test_split\n",
    "from sklearn.linear_model import LinearRegression\n",
    "from sklearn.linear_model import SGDClassifier\n",
    "from sklearn.metrics import classification_report\n",
    "\n",
    "import json\n",
    "\n",
    "import warnings\n",
    "warnings.filterwarnings('ignore')"
   ]
  },
  {
   "cell_type": "code",
   "execution_count": 2,
   "metadata": {},
   "outputs": [
    {
     "data": {
      "text/html": [
       "<div>\n",
       "<style scoped>\n",
       "    .dataframe tbody tr th:only-of-type {\n",
       "        vertical-align: middle;\n",
       "    }\n",
       "\n",
       "    .dataframe tbody tr th {\n",
       "        vertical-align: top;\n",
       "    }\n",
       "\n",
       "    .dataframe thead th {\n",
       "        text-align: right;\n",
       "    }\n",
       "</style>\n",
       "<table border=\"1\" class=\"dataframe\">\n",
       "  <thead>\n",
       "    <tr style=\"text-align: right;\">\n",
       "      <th></th>\n",
       "      <th>video_id</th>\n",
       "      <th>trending_date</th>\n",
       "      <th>title</th>\n",
       "      <th>channel_title</th>\n",
       "      <th>category_id</th>\n",
       "      <th>publish_time</th>\n",
       "      <th>tags</th>\n",
       "      <th>views</th>\n",
       "      <th>likes</th>\n",
       "      <th>dislikes</th>\n",
       "      <th>comment_count</th>\n",
       "      <th>thumbnail_link</th>\n",
       "      <th>comments_disabled</th>\n",
       "      <th>ratings_disabled</th>\n",
       "      <th>video_error_or_removed</th>\n",
       "      <th>description</th>\n",
       "    </tr>\n",
       "  </thead>\n",
       "  <tbody>\n",
       "    <tr>\n",
       "      <th>0</th>\n",
       "      <td>2kyS6SvSYSE</td>\n",
       "      <td>17.14.11</td>\n",
       "      <td>WE WANT TO TALK ABOUT OUR MARRIAGE</td>\n",
       "      <td>CaseyNeistat</td>\n",
       "      <td>22</td>\n",
       "      <td>2017-11-13T17:13:01.000Z</td>\n",
       "      <td>SHANtell martin</td>\n",
       "      <td>748374</td>\n",
       "      <td>57527</td>\n",
       "      <td>2966</td>\n",
       "      <td>15954</td>\n",
       "      <td>https://i.ytimg.com/vi/2kyS6SvSYSE/default.jpg</td>\n",
       "      <td>False</td>\n",
       "      <td>False</td>\n",
       "      <td>False</td>\n",
       "      <td>SHANTELL'S CHANNEL - https://www.youtube.com/s...</td>\n",
       "    </tr>\n",
       "    <tr>\n",
       "      <th>1</th>\n",
       "      <td>1ZAPwfrtAFY</td>\n",
       "      <td>17.14.11</td>\n",
       "      <td>The Trump Presidency: Last Week Tonight with J...</td>\n",
       "      <td>LastWeekTonight</td>\n",
       "      <td>24</td>\n",
       "      <td>2017-11-13T07:30:00.000Z</td>\n",
       "      <td>last week tonight trump presidency|\"last week ...</td>\n",
       "      <td>2418783</td>\n",
       "      <td>97185</td>\n",
       "      <td>6146</td>\n",
       "      <td>12703</td>\n",
       "      <td>https://i.ytimg.com/vi/1ZAPwfrtAFY/default.jpg</td>\n",
       "      <td>False</td>\n",
       "      <td>False</td>\n",
       "      <td>False</td>\n",
       "      <td>One year after the presidential election, John...</td>\n",
       "    </tr>\n",
       "    <tr>\n",
       "      <th>2</th>\n",
       "      <td>5qpjK5DgCt4</td>\n",
       "      <td>17.14.11</td>\n",
       "      <td>Racist Superman | Rudy Mancuso, King Bach &amp; Le...</td>\n",
       "      <td>Rudy Mancuso</td>\n",
       "      <td>23</td>\n",
       "      <td>2017-11-12T19:05:24.000Z</td>\n",
       "      <td>racist superman|\"rudy\"|\"mancuso\"|\"king\"|\"bach\"...</td>\n",
       "      <td>3191434</td>\n",
       "      <td>146033</td>\n",
       "      <td>5339</td>\n",
       "      <td>8181</td>\n",
       "      <td>https://i.ytimg.com/vi/5qpjK5DgCt4/default.jpg</td>\n",
       "      <td>False</td>\n",
       "      <td>False</td>\n",
       "      <td>False</td>\n",
       "      <td>WATCH MY PREVIOUS VIDEO ▶ \\n\\nSUBSCRIBE ► http...</td>\n",
       "    </tr>\n",
       "    <tr>\n",
       "      <th>3</th>\n",
       "      <td>puqaWrEC7tY</td>\n",
       "      <td>17.14.11</td>\n",
       "      <td>Nickelback Lyrics: Real or Fake?</td>\n",
       "      <td>Good Mythical Morning</td>\n",
       "      <td>24</td>\n",
       "      <td>2017-11-13T11:00:04.000Z</td>\n",
       "      <td>rhett and link|\"gmm\"|\"good mythical morning\"|\"...</td>\n",
       "      <td>343168</td>\n",
       "      <td>10172</td>\n",
       "      <td>666</td>\n",
       "      <td>2146</td>\n",
       "      <td>https://i.ytimg.com/vi/puqaWrEC7tY/default.jpg</td>\n",
       "      <td>False</td>\n",
       "      <td>False</td>\n",
       "      <td>False</td>\n",
       "      <td>Today we find out if Link is a Nickelback amat...</td>\n",
       "    </tr>\n",
       "    <tr>\n",
       "      <th>4</th>\n",
       "      <td>d380meD0W0M</td>\n",
       "      <td>17.14.11</td>\n",
       "      <td>I Dare You: GOING BALD!?</td>\n",
       "      <td>nigahiga</td>\n",
       "      <td>24</td>\n",
       "      <td>2017-11-12T18:01:41.000Z</td>\n",
       "      <td>ryan|\"higa\"|\"higatv\"|\"nigahiga\"|\"i dare you\"|\"...</td>\n",
       "      <td>2095731</td>\n",
       "      <td>132235</td>\n",
       "      <td>1989</td>\n",
       "      <td>17518</td>\n",
       "      <td>https://i.ytimg.com/vi/d380meD0W0M/default.jpg</td>\n",
       "      <td>False</td>\n",
       "      <td>False</td>\n",
       "      <td>False</td>\n",
       "      <td>I know it's been a while since we did this sho...</td>\n",
       "    </tr>\n",
       "  </tbody>\n",
       "</table>\n",
       "</div>"
      ],
      "text/plain": [
       "      video_id trending_date  \\\n",
       "0  2kyS6SvSYSE      17.14.11   \n",
       "1  1ZAPwfrtAFY      17.14.11   \n",
       "2  5qpjK5DgCt4      17.14.11   \n",
       "3  puqaWrEC7tY      17.14.11   \n",
       "4  d380meD0W0M      17.14.11   \n",
       "\n",
       "                                               title          channel_title  \\\n",
       "0                 WE WANT TO TALK ABOUT OUR MARRIAGE           CaseyNeistat   \n",
       "1  The Trump Presidency: Last Week Tonight with J...        LastWeekTonight   \n",
       "2  Racist Superman | Rudy Mancuso, King Bach & Le...           Rudy Mancuso   \n",
       "3                   Nickelback Lyrics: Real or Fake?  Good Mythical Morning   \n",
       "4                           I Dare You: GOING BALD!?               nigahiga   \n",
       "\n",
       "   category_id              publish_time  \\\n",
       "0           22  2017-11-13T17:13:01.000Z   \n",
       "1           24  2017-11-13T07:30:00.000Z   \n",
       "2           23  2017-11-12T19:05:24.000Z   \n",
       "3           24  2017-11-13T11:00:04.000Z   \n",
       "4           24  2017-11-12T18:01:41.000Z   \n",
       "\n",
       "                                                tags    views   likes  \\\n",
       "0                                    SHANtell martin   748374   57527   \n",
       "1  last week tonight trump presidency|\"last week ...  2418783   97185   \n",
       "2  racist superman|\"rudy\"|\"mancuso\"|\"king\"|\"bach\"...  3191434  146033   \n",
       "3  rhett and link|\"gmm\"|\"good mythical morning\"|\"...   343168   10172   \n",
       "4  ryan|\"higa\"|\"higatv\"|\"nigahiga\"|\"i dare you\"|\"...  2095731  132235   \n",
       "\n",
       "   dislikes  comment_count                                  thumbnail_link  \\\n",
       "0      2966          15954  https://i.ytimg.com/vi/2kyS6SvSYSE/default.jpg   \n",
       "1      6146          12703  https://i.ytimg.com/vi/1ZAPwfrtAFY/default.jpg   \n",
       "2      5339           8181  https://i.ytimg.com/vi/5qpjK5DgCt4/default.jpg   \n",
       "3       666           2146  https://i.ytimg.com/vi/puqaWrEC7tY/default.jpg   \n",
       "4      1989          17518  https://i.ytimg.com/vi/d380meD0W0M/default.jpg   \n",
       "\n",
       "   comments_disabled  ratings_disabled  video_error_or_removed  \\\n",
       "0              False             False                   False   \n",
       "1              False             False                   False   \n",
       "2              False             False                   False   \n",
       "3              False             False                   False   \n",
       "4              False             False                   False   \n",
       "\n",
       "                                         description  \n",
       "0  SHANTELL'S CHANNEL - https://www.youtube.com/s...  \n",
       "1  One year after the presidential election, John...  \n",
       "2  WATCH MY PREVIOUS VIDEO ▶ \\n\\nSUBSCRIBE ► http...  \n",
       "3  Today we find out if Link is a Nickelback amat...  \n",
       "4  I know it's been a while since we did this sho...  "
      ]
     },
     "execution_count": 2,
     "metadata": {},
     "output_type": "execute_result"
    }
   ],
   "source": [
    "us_video_data = pd.read_csv(\"dataset/USvideos.csv\")\n",
    "ca_video_data = pd.read_csv(\"dataset/CAvideos.csv\")\n",
    "gb_video_data = pd.read_csv(\"dataset/GBvideos.csv\")\n",
    "\n",
    "video_data = us_video_data.append(ca_video_data, ignore_index=True)\n",
    "video_data = video_data.append(gb_video_data, ignore_index=True)\n",
    "video_data.head()"
   ]
  },
  {
   "cell_type": "code",
   "execution_count": 3,
   "metadata": {},
   "outputs": [
    {
     "data": {
      "text/plain": [
       "120746"
      ]
     },
     "execution_count": 3,
     "metadata": {},
     "output_type": "execute_result"
    }
   ],
   "source": [
    "len(video_data)"
   ]
  },
  {
   "cell_type": "code",
   "execution_count": 4,
   "metadata": {},
   "outputs": [],
   "source": [
    "clean_vid_data = video_data.groupby([\"title\"]).first().reset_index()"
   ]
  },
  {
   "cell_type": "code",
   "execution_count": 5,
   "metadata": {},
   "outputs": [
    {
     "data": {
      "text/html": [
       "<div>\n",
       "<style scoped>\n",
       "    .dataframe tbody tr th:only-of-type {\n",
       "        vertical-align: middle;\n",
       "    }\n",
       "\n",
       "    .dataframe tbody tr th {\n",
       "        vertical-align: top;\n",
       "    }\n",
       "\n",
       "    .dataframe thead th {\n",
       "        text-align: right;\n",
       "    }\n",
       "</style>\n",
       "<table border=\"1\" class=\"dataframe\">\n",
       "  <thead>\n",
       "    <tr style=\"text-align: right;\">\n",
       "      <th></th>\n",
       "      <th>title</th>\n",
       "      <th>video_id</th>\n",
       "      <th>trending_date</th>\n",
       "      <th>channel_title</th>\n",
       "      <th>category_id</th>\n",
       "      <th>publish_time</th>\n",
       "      <th>tags</th>\n",
       "      <th>views</th>\n",
       "      <th>likes</th>\n",
       "      <th>dislikes</th>\n",
       "      <th>comment_count</th>\n",
       "      <th>thumbnail_link</th>\n",
       "      <th>comments_disabled</th>\n",
       "      <th>ratings_disabled</th>\n",
       "      <th>video_error_or_removed</th>\n",
       "      <th>description</th>\n",
       "    </tr>\n",
       "  </thead>\n",
       "  <tbody>\n",
       "    <tr>\n",
       "      <th>0</th>\n",
       "      <td>!! THIS VIDEO IS NOTHING BUT PAIN !! | Getting...</td>\n",
       "      <td>PNn8sECd7io</td>\n",
       "      <td>18.04.01</td>\n",
       "      <td>Markiplier</td>\n",
       "      <td>20</td>\n",
       "      <td>2018-01-03T19:33:53.000Z</td>\n",
       "      <td>getting over it|\"markiplier\"|\"funny moments\"|\"...</td>\n",
       "      <td>835930</td>\n",
       "      <td>47058</td>\n",
       "      <td>1023</td>\n",
       "      <td>8250</td>\n",
       "      <td>https://i.ytimg.com/vi/PNn8sECd7io/default.jpg</td>\n",
       "      <td>False</td>\n",
       "      <td>False</td>\n",
       "      <td>False</td>\n",
       "      <td>Getting Over It continues with RAGE BEYOND ALL...</td>\n",
       "    </tr>\n",
       "    <tr>\n",
       "      <th>1</th>\n",
       "      <td>#1 Fortnite World Rank - 2,323 Solo Wins!</td>\n",
       "      <td>DvPW66IFhMI</td>\n",
       "      <td>18.09.03</td>\n",
       "      <td>AlexRamiGaming</td>\n",
       "      <td>20</td>\n",
       "      <td>2018-03-09T07:15:52.000Z</td>\n",
       "      <td>PS4 Battle Royale|\"PS4 Pro Battle Royale\"|\"Bat...</td>\n",
       "      <td>212838</td>\n",
       "      <td>5199</td>\n",
       "      <td>542</td>\n",
       "      <td>11</td>\n",
       "      <td>https://i.ytimg.com/vi/DvPW66IFhMI/default.jpg</td>\n",
       "      <td>False</td>\n",
       "      <td>False</td>\n",
       "      <td>False</td>\n",
       "      <td>Discord For EVERYONE - https://discord.gg/nhud...</td>\n",
       "    </tr>\n",
       "    <tr>\n",
       "      <th>2</th>\n",
       "      <td>#1 Fortnite World Rank - 2,330 Solo Wins!</td>\n",
       "      <td>EXEaMjFeiEk</td>\n",
       "      <td>18.10.03</td>\n",
       "      <td>AlexRamiGaming</td>\n",
       "      <td>20</td>\n",
       "      <td>2018-03-10T06:26:17.000Z</td>\n",
       "      <td>PS4 Battle Royale|\"PS4 Pro Battle Royale\"|\"Bat...</td>\n",
       "      <td>200764</td>\n",
       "      <td>5620</td>\n",
       "      <td>537</td>\n",
       "      <td>45</td>\n",
       "      <td>https://i.ytimg.com/vi/EXEaMjFeiEk/default.jpg</td>\n",
       "      <td>False</td>\n",
       "      <td>False</td>\n",
       "      <td>False</td>\n",
       "      <td>Discord For EVERYONE - https://discord.gg/nhud...</td>\n",
       "    </tr>\n",
       "    <tr>\n",
       "      <th>3</th>\n",
       "      <td>#1 MOST ANTICIPATED VIDEO (Timber Frame House ...</td>\n",
       "      <td>bYvQmusLaxw</td>\n",
       "      <td>17.20.12</td>\n",
       "      <td>Pure Living for Life</td>\n",
       "      <td>24</td>\n",
       "      <td>2017-12-20T02:49:11.000Z</td>\n",
       "      <td>timber frame|\"timber framing\"|\"timber frame ra...</td>\n",
       "      <td>79152</td>\n",
       "      <td>7761</td>\n",
       "      <td>159</td>\n",
       "      <td>1965</td>\n",
       "      <td>https://i.ytimg.com/vi/bYvQmusLaxw/default.jpg</td>\n",
       "      <td>False</td>\n",
       "      <td>False</td>\n",
       "      <td>False</td>\n",
       "      <td>Shelter Institute: http://bit.ly/2iwXj8B\\nFull...</td>\n",
       "    </tr>\n",
       "    <tr>\n",
       "      <th>4</th>\n",
       "      <td>#1 WORLD RANKED 1463 SOLO WINS! - FORTNITE BAT...</td>\n",
       "      <td>xQ4Q5b2WwO8</td>\n",
       "      <td>18.18.01</td>\n",
       "      <td>AlexRamiGaming</td>\n",
       "      <td>20</td>\n",
       "      <td>2018-01-17T18:00:05.000Z</td>\n",
       "      <td>PS4 Battle Royale|\"PS4 Pro Battle Royale\"|\"Bat...</td>\n",
       "      <td>541482</td>\n",
       "      <td>15430</td>\n",
       "      <td>891</td>\n",
       "      <td>40</td>\n",
       "      <td>https://i.ytimg.com/vi/xQ4Q5b2WwO8/default_liv...</td>\n",
       "      <td>False</td>\n",
       "      <td>False</td>\n",
       "      <td>False</td>\n",
       "      <td>►Twitter @AlexRamiGaming\\n\\n►Tips &amp; Donations\\...</td>\n",
       "    </tr>\n",
       "  </tbody>\n",
       "</table>\n",
       "</div>"
      ],
      "text/plain": [
       "                                               title     video_id  \\\n",
       "0  !! THIS VIDEO IS NOTHING BUT PAIN !! | Getting...  PNn8sECd7io   \n",
       "1          #1 Fortnite World Rank - 2,323 Solo Wins!  DvPW66IFhMI   \n",
       "2          #1 Fortnite World Rank - 2,330 Solo Wins!  EXEaMjFeiEk   \n",
       "3  #1 MOST ANTICIPATED VIDEO (Timber Frame House ...  bYvQmusLaxw   \n",
       "4  #1 WORLD RANKED 1463 SOLO WINS! - FORTNITE BAT...  xQ4Q5b2WwO8   \n",
       "\n",
       "  trending_date         channel_title  category_id              publish_time  \\\n",
       "0      18.04.01            Markiplier           20  2018-01-03T19:33:53.000Z   \n",
       "1      18.09.03        AlexRamiGaming           20  2018-03-09T07:15:52.000Z   \n",
       "2      18.10.03        AlexRamiGaming           20  2018-03-10T06:26:17.000Z   \n",
       "3      17.20.12  Pure Living for Life           24  2017-12-20T02:49:11.000Z   \n",
       "4      18.18.01        AlexRamiGaming           20  2018-01-17T18:00:05.000Z   \n",
       "\n",
       "                                                tags   views  likes  dislikes  \\\n",
       "0  getting over it|\"markiplier\"|\"funny moments\"|\"...  835930  47058      1023   \n",
       "1  PS4 Battle Royale|\"PS4 Pro Battle Royale\"|\"Bat...  212838   5199       542   \n",
       "2  PS4 Battle Royale|\"PS4 Pro Battle Royale\"|\"Bat...  200764   5620       537   \n",
       "3  timber frame|\"timber framing\"|\"timber frame ra...   79152   7761       159   \n",
       "4  PS4 Battle Royale|\"PS4 Pro Battle Royale\"|\"Bat...  541482  15430       891   \n",
       "\n",
       "   comment_count                                     thumbnail_link  \\\n",
       "0           8250     https://i.ytimg.com/vi/PNn8sECd7io/default.jpg   \n",
       "1             11     https://i.ytimg.com/vi/DvPW66IFhMI/default.jpg   \n",
       "2             45     https://i.ytimg.com/vi/EXEaMjFeiEk/default.jpg   \n",
       "3           1965     https://i.ytimg.com/vi/bYvQmusLaxw/default.jpg   \n",
       "4             40  https://i.ytimg.com/vi/xQ4Q5b2WwO8/default_liv...   \n",
       "\n",
       "   comments_disabled  ratings_disabled  video_error_or_removed  \\\n",
       "0              False             False                   False   \n",
       "1              False             False                   False   \n",
       "2              False             False                   False   \n",
       "3              False             False                   False   \n",
       "4              False             False                   False   \n",
       "\n",
       "                                         description  \n",
       "0  Getting Over It continues with RAGE BEYOND ALL...  \n",
       "1  Discord For EVERYONE - https://discord.gg/nhud...  \n",
       "2  Discord For EVERYONE - https://discord.gg/nhud...  \n",
       "3  Shelter Institute: http://bit.ly/2iwXj8B\\nFull...  \n",
       "4  ►Twitter @AlexRamiGaming\\n\\n►Tips & Donations\\...  "
      ]
     },
     "execution_count": 5,
     "metadata": {},
     "output_type": "execute_result"
    }
   ],
   "source": [
    "clean_vid_data.head(5)"
   ]
  },
  {
   "cell_type": "code",
   "execution_count": 6,
   "metadata": {},
   "outputs": [
    {
     "data": {
      "text/plain": [
       "30626"
      ]
     },
     "execution_count": 6,
     "metadata": {},
     "output_type": "execute_result"
    }
   ],
   "source": [
    "len(clean_vid_data)"
   ]
  },
  {
   "cell_type": "markdown",
   "metadata": {},
   "source": [
    "## Part 1: Category Classification Model"
   ]
  },
  {
   "cell_type": "code",
   "execution_count": 7,
   "metadata": {},
   "outputs": [],
   "source": [
    "def create_category_map():\n",
    "    category_map = {}\n",
    "    data = {}\n",
    "    with open('dataset/US_category_id.json', 'r') as outfile:\n",
    "        data = json.load(outfile)\n",
    "        for item in data[\"items\"]:\n",
    "            category_map[item[\"id\"]] = item[\"snippet\"][\"title\"]\n",
    "    return category_map\n",
    "category_map = create_category_map()"
   ]
  },
  {
   "cell_type": "code",
   "execution_count": 8,
   "metadata": {},
   "outputs": [
    {
     "data": {
      "text/plain": [
       "{'1': 'Film & Animation',\n",
       " '2': 'Autos & Vehicles',\n",
       " '10': 'Music',\n",
       " '15': 'Pets & Animals',\n",
       " '17': 'Sports',\n",
       " '18': 'Short Movies',\n",
       " '19': 'Travel & Events',\n",
       " '20': 'Gaming',\n",
       " '21': 'Videoblogging',\n",
       " '22': 'People & Blogs',\n",
       " '23': 'Comedy',\n",
       " '24': 'Entertainment',\n",
       " '25': 'News & Politics',\n",
       " '26': 'Howto & Style',\n",
       " '27': 'Education',\n",
       " '28': 'Science & Technology',\n",
       " '29': 'Nonprofits & Activism',\n",
       " '30': 'Movies',\n",
       " '31': 'Anime/Animation',\n",
       " '32': 'Action/Adventure',\n",
       " '33': 'Classics',\n",
       " '34': 'Comedy',\n",
       " '35': 'Documentary',\n",
       " '36': 'Drama',\n",
       " '37': 'Family',\n",
       " '38': 'Foreign',\n",
       " '39': 'Horror',\n",
       " '40': 'Sci-Fi/Fantasy',\n",
       " '41': 'Thriller',\n",
       " '42': 'Shorts',\n",
       " '43': 'Shows',\n",
       " '44': 'Trailers'}"
      ]
     },
     "execution_count": 8,
     "metadata": {},
     "output_type": "execute_result"
    }
   ],
   "source": [
    "category_map"
   ]
  },
  {
   "cell_type": "code",
   "execution_count": 9,
   "metadata": {},
   "outputs": [],
   "source": [
    "import re\n",
    "\n",
    "def preprocess_text_df(text):\n",
    "    text = text.apply(lambda x: x.lower())\n",
    "    text = text.str.replace(r'[^a-zA-Z ]', '') #text.str.replace(r'[^\\w\\s]', '')\n",
    "    return text\n",
    "\n",
    "def preprocess_text(text):\n",
    "    text = text.lower()\n",
    "    regex = re.compile('[^a-zA-Z ]')\n",
    "    text = regex.sub('', text)\n",
    "    return text\n",
    "\n",
    "def preprocess_tags(text):\n",
    "    try:\n",
    "        text = text.apply(lambda x: x.lower())\n",
    "        text = text.str.replace(r'[^a-zA-Z ]', ' ')\n",
    "    except:\n",
    "        text = text.lower()\n",
    "        regex = re.compile('[^a-zA-Z ]')\n",
    "        text = regex.sub(' ', text)\n",
    "    return text"
   ]
  },
  {
   "cell_type": "code",
   "execution_count": 10,
   "metadata": {},
   "outputs": [
    {
     "data": {
      "text/plain": [
       "'dua lipa  idgaf official music video'"
      ]
     },
     "execution_count": 10,
     "metadata": {},
     "output_type": "execute_result"
    }
   ],
   "source": [
    "preprocess_text(\"Dua Lipa - IDGAF (Official Music Video)\")"
   ]
  },
  {
   "cell_type": "code",
   "execution_count": 38,
   "metadata": {},
   "outputs": [],
   "source": [
    "def predict_category(X_train, y_train, X_test, vectorizer, clf):\n",
    "    X_train = vectorizer.fit_transform(X_train)\n",
    "    clf.fit(X_train, y_train)\n",
    "    y_pred = clf.predict(vectorizer.transform(X_test))\n",
    "    return y_pred\n",
    "\n",
    "def predict_category_from_title_helper(X_train, y_train, X_test, vectorizer, clf):\n",
    "    X_train = vectorizer.fit_transform(X_train)\n",
    "    clf.fit(X_train, y_train)\n",
    "    y_pred = clf.predict(vectorizer.transform(pd.Series(X_test)))\n",
    "    return y_pred\n",
    "\n",
    "def predict_category_from_title(title):\n",
    "    return predict_category_from_title_helper(X_train, \n",
    "                            y_train, \n",
    "                            title, \n",
    "                            TfidfVectorizer(), \n",
    "                            SGDClassifier())[0]"
   ]
  },
  {
   "cell_type": "code",
   "execution_count": 12,
   "metadata": {
    "scrolled": false
   },
   "outputs": [
    {
     "name": "stdout",
     "output_type": "stream",
     "text": [
      "              precision    recall  f1-score   support\n",
      "\n",
      "           1       0.85      0.53      0.65       144\n",
      "           2       0.84      0.78      0.81        27\n",
      "          10       0.71      0.92      0.80       238\n",
      "          15       0.82      0.85      0.84        33\n",
      "          17       0.88      0.90      0.89       231\n",
      "          19       0.90      0.70      0.79        40\n",
      "          20       0.83      0.76      0.79        91\n",
      "          22       0.74      0.50      0.59       292\n",
      "          23       0.86      0.82      0.84       222\n",
      "          24       0.79      0.87      0.83      1011\n",
      "          25       0.81      0.85      0.83       358\n",
      "          26       0.78      0.86      0.82       178\n",
      "          27       0.77      0.67      0.71        90\n",
      "          28       0.75      0.61      0.67        92\n",
      "          29       1.00      0.20      0.33         5\n",
      "          43       1.00      0.73      0.84        11\n",
      "\n",
      "   micro avg       0.79      0.79      0.79      3063\n",
      "   macro avg       0.83      0.72      0.75      3063\n",
      "weighted avg       0.80      0.79      0.79      3063\n",
      "\n"
     ]
    }
   ],
   "source": [
    "clean_vid_data[\"title_clean\"] = preprocess_text_df(clean_vid_data.title)\n",
    "clean_vid_data[\"tags_clean\"] = preprocess_tags(clean_vid_data.tags)\n",
    "X_train, X_test, y_train, y_test = train_test_split(clean_vid_data[\"title_clean\"] + clean_vid_data[\"tags_clean\"], \n",
    "                                                    clean_vid_data['category_id'], \n",
    "                                                    test_size=0.1, \n",
    "                                                    shuffle=True\n",
    "                                                    )\n",
    "y_pred = predict_category(X_train, y_train, X_test, TfidfVectorizer(ngram_range=(1, 2)), SGDClassifier())\n",
    "print(classification_report(y_test, y_pred))"
   ]
  },
  {
   "cell_type": "code",
   "execution_count": 13,
   "metadata": {},
   "outputs": [
    {
     "data": {
      "text/plain": [
       "array([10])"
      ]
     },
     "execution_count": 13,
     "metadata": {},
     "output_type": "execute_result"
    }
   ],
   "source": [
    "title = preprocess_text(\"Dua Lipa - IDGAF (Official Music Video)\")\n",
    "predict_category_from_title(X_train, \n",
    "                            y_train, \n",
    "                            title, \n",
    "                            TfidfVectorizer(), \n",
    "                            SGDClassifier())"
   ]
  },
  {
   "cell_type": "code",
   "execution_count": 14,
   "metadata": {},
   "outputs": [
    {
     "data": {
      "text/plain": [
       "0.7949722494286647"
      ]
     },
     "execution_count": 14,
     "metadata": {},
     "output_type": "execute_result"
    }
   ],
   "source": [
    "metrics.accuracy_score(y_test, y_pred)"
   ]
  },
  {
   "cell_type": "code",
   "execution_count": 15,
   "metadata": {},
   "outputs": [],
   "source": [
    "def category_group(num):\n",
    "    category_number = num    \n",
    "    category_name = category_map[str(num)]\n",
    "    rslt_df = clean_vid_data[clean_vid_data['category_id'] == category_number] \n",
    "    return rslt_df.reset_index()"
   ]
  },
  {
   "cell_type": "markdown",
   "metadata": {},
   "source": [
    "ann"
   ]
  },
  {
   "cell_type": "code",
   "execution_count": 16,
   "metadata": {},
   "outputs": [],
   "source": [
    "def find_tags(vidtitle, rslt_df) : \n",
    "    row = rslt_df[rslt_df['title'] == vidtitle]\n",
    "    tags = row['tags']\n",
    "    list_of_tags = []\n",
    "    for it in tags:\n",
    "        ls = it.split('|')\n",
    "        for l in ls:\n",
    "            if l != '[none]':\n",
    "                list_of_tags.append(l)    \n",
    "    return list_of_tags#[0] if len(list_of_tags) else list_of_tags"
   ]
  },
  {
   "cell_type": "code",
   "execution_count": null,
   "metadata": {},
   "outputs": [],
   "source": []
  },
  {
   "cell_type": "markdown",
   "metadata": {},
   "source": [
    "## Part 2: Same Category Video Rankings"
   ]
  },
  {
   "cell_type": "markdown",
   "metadata": {},
   "source": [
    "annabelle"
   ]
  },
  {
   "cell_type": "markdown",
   "metadata": {},
   "source": [
    "### 2.1 Ranking Based on Title"
   ]
  },
  {
   "cell_type": "code",
   "execution_count": 17,
   "metadata": {},
   "outputs": [
    {
     "data": {
      "text/html": [
       "<div>\n",
       "<style scoped>\n",
       "    .dataframe tbody tr th:only-of-type {\n",
       "        vertical-align: middle;\n",
       "    }\n",
       "\n",
       "    .dataframe tbody tr th {\n",
       "        vertical-align: top;\n",
       "    }\n",
       "\n",
       "    .dataframe thead th {\n",
       "        text-align: right;\n",
       "    }\n",
       "</style>\n",
       "<table border=\"1\" class=\"dataframe\">\n",
       "  <thead>\n",
       "    <tr style=\"text-align: right;\">\n",
       "      <th></th>\n",
       "      <th>title</th>\n",
       "      <th>category_id</th>\n",
       "      <th>title_clean</th>\n",
       "    </tr>\n",
       "  </thead>\n",
       "  <tbody>\n",
       "    <tr>\n",
       "      <th>0</th>\n",
       "      <td>!! THIS VIDEO IS NOTHING BUT PAIN !! | Getting...</td>\n",
       "      <td>20</td>\n",
       "      <td>this video is nothing but pain   getting over...</td>\n",
       "    </tr>\n",
       "    <tr>\n",
       "      <th>1</th>\n",
       "      <td>#1 Fortnite World Rank - 2,323 Solo Wins!</td>\n",
       "      <td>20</td>\n",
       "      <td>fortnite world rank   solo wins</td>\n",
       "    </tr>\n",
       "    <tr>\n",
       "      <th>2</th>\n",
       "      <td>#1 Fortnite World Rank - 2,330 Solo Wins!</td>\n",
       "      <td>20</td>\n",
       "      <td>fortnite world rank   solo wins</td>\n",
       "    </tr>\n",
       "    <tr>\n",
       "      <th>3</th>\n",
       "      <td>#1 MOST ANTICIPATED VIDEO (Timber Frame House ...</td>\n",
       "      <td>24</td>\n",
       "      <td>most anticipated video timber frame house rai...</td>\n",
       "    </tr>\n",
       "    <tr>\n",
       "      <th>4</th>\n",
       "      <td>#1 WORLD RANKED 1463 SOLO WINS! - FORTNITE BAT...</td>\n",
       "      <td>20</td>\n",
       "      <td>world ranked  solo wins  fortnite battle roya...</td>\n",
       "    </tr>\n",
       "  </tbody>\n",
       "</table>\n",
       "</div>"
      ],
      "text/plain": [
       "                                               title  category_id  \\\n",
       "0  !! THIS VIDEO IS NOTHING BUT PAIN !! | Getting...           20   \n",
       "1          #1 Fortnite World Rank - 2,323 Solo Wins!           20   \n",
       "2          #1 Fortnite World Rank - 2,330 Solo Wins!           20   \n",
       "3  #1 MOST ANTICIPATED VIDEO (Timber Frame House ...           24   \n",
       "4  #1 WORLD RANKED 1463 SOLO WINS! - FORTNITE BAT...           20   \n",
       "\n",
       "                                         title_clean  \n",
       "0   this video is nothing but pain   getting over...  \n",
       "1                    fortnite world rank   solo wins  \n",
       "2                    fortnite world rank   solo wins  \n",
       "3   most anticipated video timber frame house rai...  \n",
       "4   world ranked  solo wins  fortnite battle roya...  "
      ]
     },
     "execution_count": 17,
     "metadata": {},
     "output_type": "execute_result"
    }
   ],
   "source": [
    "video = clean_vid_data[[\"title\", \"category_id\"]]\n",
    "video[\"title_clean\"] = preprocess_text_df(video.title)\n",
    "video.head()"
   ]
  },
  {
   "cell_type": "code",
   "execution_count": 18,
   "metadata": {},
   "outputs": [],
   "source": [
    "#source: https://towardsdatascience.com/overview-of-text-similarity-metrics-3397c4601f50\n",
    "def get_jaccard_sim(a, str2): \n",
    "    #a = set(str1.split()) \n",
    "    b = set(str2.split())\n",
    "    c = a.intersection(b)\n",
    "    return float(len(c)) / (len(a) + len(b) - len(c))\n",
    "\n",
    "def get_jaccard_sim_list(list1, list2): \n",
    "    a = set(list1) \n",
    "    b = set(list2)\n",
    "    c = a.intersection(b)\n",
    "    if (len(a) + len(b) - len(c)) == 0:\n",
    "        return 0\n",
    "    return float(len(c)) / (len(a) + len(b) - len(c))"
   ]
  },
  {
   "cell_type": "code",
   "execution_count": 19,
   "metadata": {},
   "outputs": [],
   "source": [
    "def find_similar_title(v):\n",
    "    cleaned_title = preprocess_text(v)\n",
    "    a = set(cleaned_title.split())\n",
    "    \n",
    "    category = video.loc[video.title.str.endswith(v)][\"category_id\"].values[0]\n",
    "    video_category = video.loc[video['category_id']==category]\n",
    "    \n",
    "    score = []\n",
    "    \n",
    "    for t in video_category.title_clean:\n",
    "        score += [get_jaccard_sim(a, t)]\n",
    "    video_category[\"title_score\"] = score\n",
    "    \n",
    "    video_category = video_category.loc[video_category['title_score'] < 1].sort_values(by=['title_score'], ascending=False)\n",
    "    return video_category.reset_index().drop(columns=['index', 'title_clean'])[0:25]\n",
    "\n",
    "#similar_video_titles = find_similar_title(\"#ProudToCreate: Pride 2018\")\n",
    "similar_video_titles = find_similar_title(\"Marshmello - FLY (Official Music Video)\")"
   ]
  },
  {
   "cell_type": "code",
   "execution_count": 20,
   "metadata": {},
   "outputs": [
    {
     "data": {
      "text/plain": [
       "'dua lipa  idgaf official music video'"
      ]
     },
     "execution_count": 20,
     "metadata": {},
     "output_type": "execute_result"
    }
   ],
   "source": [
    "preprocess_text(\"Dua Lipa - IDGAF (Official Music Video)\")"
   ]
  },
  {
   "cell_type": "code",
   "execution_count": 21,
   "metadata": {},
   "outputs": [
    {
     "data": {
      "text/plain": [
       "0         this video is nothing but pain   getting over...\n",
       "1                          fortnite world rank   solo wins\n",
       "2                          fortnite world rank   solo wins\n",
       "3         most anticipated video timber frame house rai...\n",
       "4         world ranked  solo wins  fortnite battle roya...\n",
       "5                                  world record  solo wins\n",
       "6            world ranked   solo wins   new minigun update\n",
       "7            world record  solo wins  fortnite live stream\n",
       "8            world record  solo wins  fortnite live stream\n",
       "9         most emotional moments in cricket history  cr...\n",
       "10                      making a pcb using easyeda  review\n",
       "11        how to go fast coaching famous youtuber mike ...\n",
       "12                    feed the homeless  one list one life\n",
       "13        did jesus exist jordan peterson and lindsay s...\n",
       "14        does jerusalem belong to israel ted cruz gues...\n",
       "15        crowder is back trump did what ben shapiro an...\n",
       "16        elon musk i need your  razorfist and clint ho...\n",
       "17        cnn town hall fake news nigel farage and stef...\n",
       "18        trump betrays on gun rights jordan peterson a...\n",
       "19        why cant trump keep staff ben shapiro and jim...\n",
       "20        live from smu crowders free speech party  lou...\n",
       "21        youtube shooting coverup thomas sowell and ow...\n",
       "22        bullsht man vs cnn ben shapiro and hodgetwins...\n",
       "23        the truth about kanye going maga nick dipaolo...\n",
       "24        americas done apologizing ben shapiro blaire ...\n",
       "25        samantha bee is finished gavin mcinnes and to...\n",
       "26                                    am and ssb explained\n",
       "27                                                        \n",
       "28                                           black panther\n",
       "29       abovethenoise feat serena williams neymar jr c...\n",
       "                               ...                        \n",
       "30596                                   kittens board game\n",
       "30597        bank on it  asmr  paper  keyboard  inaudible \n",
       "30598     alex jones infowars  all shows from today com...\n",
       "30599     alex jones infowars  all shows from today com...\n",
       "30600     alex jones show  commercial free  tuesday   i...\n",
       "30601      avengers infinity war cast answer your burni...\n",
       "30602      the avengers infinity war cast play hot seat...\n",
       "30603     reaction  lil dicky  freaky friday feat chris...\n",
       "30604     organize and declutter my makeup collection  ...\n",
       "30605       world ranked   solo wins  fortnite live stream\n",
       "30606     alabama election results live coverage  roy m...\n",
       "30607                 final live slot play   here we come \n",
       "30608     live fbi director christopher wray testifies ...\n",
       "30609     live senate urgent vote on government shutdow...\n",
       "30610     live starman driving in space after successfu...\n",
       "30611     live worldwide new years eve coverage  times ...\n",
       "30612     live white house urgent press briefing  sarah...\n",
       "30613     live white house urgent press briefing  with ...\n",
       "30614     live white house urgent press briefing with s...\n",
       "30615     live white house urgent press briefing with s...\n",
       "30616     live white house urgent press briefing sarah ...\n",
       "30617     live white house urgent press briefing sarah ...\n",
       "30618     watch president donald trump massive rally in...\n",
       "30619                                                     \n",
       "30620                                                     \n",
       "30621    epic fails  ultimate december fail comp crashe...\n",
       "30622                                          iphone case\n",
       "30623    she is so nervous but blows the roof after tak...\n",
       "30624     breaking news  raja live all slot channels we...\n",
       "30625    active shooter at youtube headquarters  live b...\n",
       "Name: title_clean, Length: 30626, dtype: object"
      ]
     },
     "execution_count": 21,
     "metadata": {},
     "output_type": "execute_result"
    }
   ],
   "source": [
    "video[\"title_clean\"]"
   ]
  },
  {
   "cell_type": "code",
   "execution_count": 22,
   "metadata": {},
   "outputs": [
    {
     "data": {
      "text/html": [
       "<div>\n",
       "<style scoped>\n",
       "    .dataframe tbody tr th:only-of-type {\n",
       "        vertical-align: middle;\n",
       "    }\n",
       "\n",
       "    .dataframe tbody tr th {\n",
       "        vertical-align: top;\n",
       "    }\n",
       "\n",
       "    .dataframe thead th {\n",
       "        text-align: right;\n",
       "    }\n",
       "</style>\n",
       "<table border=\"1\" class=\"dataframe\">\n",
       "  <thead>\n",
       "    <tr style=\"text-align: right;\">\n",
       "      <th></th>\n",
       "      <th>title</th>\n",
       "      <th>category_id</th>\n",
       "      <th>title_score</th>\n",
       "    </tr>\n",
       "  </thead>\n",
       "  <tbody>\n",
       "    <tr>\n",
       "      <th>0</th>\n",
       "      <td>Marshmello - Blocks (Official Music Video)</td>\n",
       "      <td>10</td>\n",
       "      <td>0.666667</td>\n",
       "    </tr>\n",
       "    <tr>\n",
       "      <th>1</th>\n",
       "      <td>Marshmello - You &amp; Me (Official Music Video)</td>\n",
       "      <td>10</td>\n",
       "      <td>0.571429</td>\n",
       "    </tr>\n",
       "    <tr>\n",
       "      <th>2</th>\n",
       "      <td>Marshmello - Love U (Official Music Video)</td>\n",
       "      <td>10</td>\n",
       "      <td>0.571429</td>\n",
       "    </tr>\n",
       "    <tr>\n",
       "      <th>3</th>\n",
       "      <td>Marshmello - LoVe U (Official Music Video)</td>\n",
       "      <td>10</td>\n",
       "      <td>0.571429</td>\n",
       "    </tr>\n",
       "    <tr>\n",
       "      <th>4</th>\n",
       "      <td>Marshmello - Take It Back (Official Music Video)</td>\n",
       "      <td>10</td>\n",
       "      <td>0.500000</td>\n",
       "    </tr>\n",
       "    <tr>\n",
       "      <th>5</th>\n",
       "      <td>Marshmello &amp; Anne-Marie - FRIENDS (Music Video...</td>\n",
       "      <td>10</td>\n",
       "      <td>0.444444</td>\n",
       "    </tr>\n",
       "    <tr>\n",
       "      <th>6</th>\n",
       "      <td>Marshmello x Lil Peep - Spotlight (Official Mu...</td>\n",
       "      <td>10</td>\n",
       "      <td>0.444444</td>\n",
       "    </tr>\n",
       "    <tr>\n",
       "      <th>7</th>\n",
       "      <td>Ghost - Rats (Official Music Video)</td>\n",
       "      <td>10</td>\n",
       "      <td>0.428571</td>\n",
       "    </tr>\n",
       "    <tr>\n",
       "      <th>8</th>\n",
       "      <td>Justice - Stop (Official Music Video)</td>\n",
       "      <td>10</td>\n",
       "      <td>0.428571</td>\n",
       "    </tr>\n",
       "    <tr>\n",
       "      <th>9</th>\n",
       "      <td>PENTAGON(펜타곤) - '빛나리(Shine)' Official Music Video</td>\n",
       "      <td>10</td>\n",
       "      <td>0.428571</td>\n",
       "    </tr>\n",
       "  </tbody>\n",
       "</table>\n",
       "</div>"
      ],
      "text/plain": [
       "                                               title  category_id  title_score\n",
       "0         Marshmello - Blocks (Official Music Video)           10     0.666667\n",
       "1       Marshmello - You & Me (Official Music Video)           10     0.571429\n",
       "2         Marshmello - Love U (Official Music Video)           10     0.571429\n",
       "3         Marshmello - LoVe U (Official Music Video)           10     0.571429\n",
       "4   Marshmello - Take It Back (Official Music Video)           10     0.500000\n",
       "5  Marshmello & Anne-Marie - FRIENDS (Music Video...           10     0.444444\n",
       "6  Marshmello x Lil Peep - Spotlight (Official Mu...           10     0.444444\n",
       "7                Ghost - Rats (Official Music Video)           10     0.428571\n",
       "8              Justice - Stop (Official Music Video)           10     0.428571\n",
       "9  PENTAGON(펜타곤) - '빛나리(Shine)' Official Music Video           10     0.428571"
      ]
     },
     "execution_count": 22,
     "metadata": {},
     "output_type": "execute_result"
    }
   ],
   "source": [
    "similar_video_titles.head(10)"
   ]
  },
  {
   "cell_type": "markdown",
   "metadata": {},
   "source": [
    "### 2.2 Ranking Based on Tags"
   ]
  },
  {
   "cell_type": "code",
   "execution_count": 23,
   "metadata": {},
   "outputs": [
    {
     "data": {
      "text/plain": [
       "'PS4 Battle Royale|\"PS4 Pro Battle Royale\"|\"Battle Royale Win\"|\"Fornite Duo\"|\"Fortnite Squads\"|\"solo\"|\"Fortnite\"|\"Umbrella\"|\"Fortnite Gameplay\"|\"Fortnite PS4\"|\"Fortnite Stream\"|\"Fortnite Game\"|\"Fortnite Tips\"|\"Fortnite Tricks\"|\"Fortnight\"|\"Fort Night\"|\"Fort Nite\"|\"fortnite br\"|\"fortnite pubg\"|\"fornite battle royale\"|\"fortnight br\"|\"fortnight\"|\"fortnite br solo\"|\"fortnite solo\"|\"fortnite new update\"|\"fortnite new city\"|\"fortnite patch\"|\"Fortnite #1 World Rank\"'"
      ]
     },
     "execution_count": 23,
     "metadata": {},
     "output_type": "execute_result"
    }
   ],
   "source": [
    "tags = clean_vid_data[\"tags\"]\n",
    "tags[1]"
   ]
  },
  {
   "cell_type": "code",
   "execution_count": 24,
   "metadata": {},
   "outputs": [],
   "source": [
    "def map_titles_to_tags(category):\n",
    "    category_df = category_group(category)\n",
    "    title_tags_dict = {}\n",
    "    for i in range(len(category_df)):\n",
    "        video_title = category_df[\"title\"][i]\n",
    "        video_tags = find_tags(video_title, category_df)\n",
    "        title_tags_dict[video_title] = video_tags\n",
    "    return title_tags_dict"
   ]
  },
  {
   "cell_type": "code",
   "execution_count": 25,
   "metadata": {},
   "outputs": [],
   "source": [
    "# def find_category_tags(interested_category):\n",
    "#     tags_df = pd.DataFrame()\n",
    "#     title_tags_dict = {}\n",
    "#     trimed_df = category_group(interested_category)\n",
    "#     for i in range(len(trimed_df[\"tags\"])):\n",
    "        \n",
    "#         video_title = trimed_df[\"title\"][i]\n",
    "#         ls = trimed_df[\"tags\"][i]\n",
    "#         individual_tags = ls.split(\"|\")\n",
    "#         for it in individual_tags[0:5]:\n",
    "#             if it != '[none]':\n",
    "#                 tags_df = tags_df.append({\"Tag Name\": it, \"Video Title\": video_title}, ignore_index=True)\n",
    "#     return tags_df"
   ]
  },
  {
   "cell_type": "code",
   "execution_count": 26,
   "metadata": {},
   "outputs": [
    {
     "data": {
      "text/plain": [
       "10"
      ]
     },
     "execution_count": 26,
     "metadata": {},
     "output_type": "execute_result"
    }
   ],
   "source": [
    "video.loc[video.title==\"Dua Lipa - IDGAF (Official Music Video)\"][\"category_id\"].values[0]"
   ]
  },
  {
   "cell_type": "code",
   "execution_count": 45,
   "metadata": {},
   "outputs": [],
   "source": [
    "def find_similar_tag_video(title, num):\n",
    "    \n",
    "    category = predict_category_from_title(title)\n",
    "    #category_df = video.loc[video['category_id']==category]\n",
    "    \n",
    "    category_df = category_group(category)\n",
    "    #return category_df\n",
    "    interested_tags = find_tags(title, category_df)\n",
    "    category_df = category_df[[\"title\"]]\n",
    "#     print(category)\n",
    "#     print(interested_tags)\n",
    "    title_tag_mapping = map_titles_to_tags(category)\n",
    "    score = []\n",
    "    i = 0\n",
    "    for title, tags in title_tag_mapping.items():\n",
    "        score.append(get_jaccard_sim_list(interested_tags, tags))\n",
    "    \n",
    "    category_df[\"tag_score\"] = score\n",
    "    \n",
    "    category_df = category_df.loc[category_df['tag_score'] > 0].loc[category_df['tag_score'] != 1].loc[category_df['tag_score'] != len(interested_tags)].sort_values(by = ['tag_score'], ascending=False)\n",
    "\n",
    "    return category_df.reset_index().drop(columns=['index'])[0:num]\n",
    "\n",
    "#similar_videos_tags = find_similar_tag_video(\"Calvin Harris, Dua Lipa - One Kiss (Lyric Video)\")\n",
    "similar_videos_tags = find_similar_tag_video(\"Dua Lipa - IDGAF (Official Music Video)\",10)  \n",
    "#similar_videos_tags = find_similar_tag_video(\"#ProudToCreate: Pride 2018\")"
   ]
  },
  {
   "cell_type": "code",
   "execution_count": 46,
   "metadata": {},
   "outputs": [
    {
     "data": {
      "text/html": [
       "<div>\n",
       "<style scoped>\n",
       "    .dataframe tbody tr th:only-of-type {\n",
       "        vertical-align: middle;\n",
       "    }\n",
       "\n",
       "    .dataframe tbody tr th {\n",
       "        vertical-align: top;\n",
       "    }\n",
       "\n",
       "    .dataframe thead th {\n",
       "        text-align: right;\n",
       "    }\n",
       "</style>\n",
       "<table border=\"1\" class=\"dataframe\">\n",
       "  <thead>\n",
       "    <tr style=\"text-align: right;\">\n",
       "      <th></th>\n",
       "      <th>title</th>\n",
       "      <th>tag_score</th>\n",
       "    </tr>\n",
       "  </thead>\n",
       "  <tbody>\n",
       "    <tr>\n",
       "      <th>0</th>\n",
       "      <td>Azealia Banks - Anna Wintour</td>\n",
       "      <td>0.060606</td>\n",
       "    </tr>\n",
       "    <tr>\n",
       "      <th>1</th>\n",
       "      <td>Dua Lipa - New Rules (Live at The BRIT Awards ...</td>\n",
       "      <td>0.055556</td>\n",
       "    </tr>\n",
       "    <tr>\n",
       "      <th>2</th>\n",
       "      <td>Bruno Mars Wins Album Of The Year | Acceptance...</td>\n",
       "      <td>0.039216</td>\n",
       "    </tr>\n",
       "    <tr>\n",
       "      <th>3</th>\n",
       "      <td>Nina Nesbitt - Somebody Special (Official Video)</td>\n",
       "      <td>0.038462</td>\n",
       "    </tr>\n",
       "    <tr>\n",
       "      <th>4</th>\n",
       "      <td>Bruno Mars Wins Record Of The Year | Acceptanc...</td>\n",
       "      <td>0.037736</td>\n",
       "    </tr>\n",
       "    <tr>\n",
       "      <th>5</th>\n",
       "      <td>BURNS, Maluma, Rae Sremmurd - Hands On Me (Aud...</td>\n",
       "      <td>0.037037</td>\n",
       "    </tr>\n",
       "    <tr>\n",
       "      <th>6</th>\n",
       "      <td>Harry Styles - Kiwi (live in studio)</td>\n",
       "      <td>0.037037</td>\n",
       "    </tr>\n",
       "    <tr>\n",
       "      <th>7</th>\n",
       "      <td>Harry Styles - Kiwi</td>\n",
       "      <td>0.037037</td>\n",
       "    </tr>\n",
       "    <tr>\n",
       "      <th>8</th>\n",
       "      <td>Backstreet Boys - Don't Go Breaking My Heart (...</td>\n",
       "      <td>0.037037</td>\n",
       "    </tr>\n",
       "    <tr>\n",
       "      <th>9</th>\n",
       "      <td>Grace VanderWaal - So Much More Than This (Beh...</td>\n",
       "      <td>0.037037</td>\n",
       "    </tr>\n",
       "  </tbody>\n",
       "</table>\n",
       "</div>"
      ],
      "text/plain": [
       "                                               title  tag_score\n",
       "0                       Azealia Banks - Anna Wintour   0.060606\n",
       "1  Dua Lipa - New Rules (Live at The BRIT Awards ...   0.055556\n",
       "2  Bruno Mars Wins Album Of The Year | Acceptance...   0.039216\n",
       "3   Nina Nesbitt - Somebody Special (Official Video)   0.038462\n",
       "4  Bruno Mars Wins Record Of The Year | Acceptanc...   0.037736\n",
       "5  BURNS, Maluma, Rae Sremmurd - Hands On Me (Aud...   0.037037\n",
       "6               Harry Styles - Kiwi (live in studio)   0.037037\n",
       "7                                Harry Styles - Kiwi   0.037037\n",
       "8  Backstreet Boys - Don't Go Breaking My Heart (...   0.037037\n",
       "9  Grace VanderWaal - So Much More Than This (Beh...   0.037037"
      ]
     },
     "execution_count": 46,
     "metadata": {},
     "output_type": "execute_result"
    }
   ],
   "source": [
    "similar_videos_tags"
   ]
  },
  {
   "cell_type": "code",
   "execution_count": 28,
   "metadata": {},
   "outputs": [
    {
     "data": {
      "text/plain": [
       "['calvin harris',\n",
       " '\"calvin harris one kiss\"',\n",
       " '\"calvin harris dua lipa one kiss\"',\n",
       " '\"dua lipa one kiss\"',\n",
       " '\"one kiss\"',\n",
       " '\"one kiss lyrics\"',\n",
       " '\"calvin harris one kiss lyrics\"',\n",
       " '\"calvin harris dua lipa one kiss live\"',\n",
       " '\"calvin harris dua lipa one kiss lyrics\"',\n",
       " '\"dua lipa one kiss lyrics\"',\n",
       " '\"dua lipa one kiss live\"',\n",
       " '\"calvin harris feels\"',\n",
       " '\"calvin harris summer\"',\n",
       " '\"calvin harris nuh ready\"',\n",
       " '\"calvin harris thinking about you\"',\n",
       " '\"calvin harris my way\"',\n",
       " '\"calvin harris feel so close\"',\n",
       " '\"calvin\"',\n",
       " '\"harris\"']"
      ]
     },
     "execution_count": 28,
     "metadata": {},
     "output_type": "execute_result"
    }
   ],
   "source": [
    "category_df10 = category_group(10)\n",
    "a0 = find_tags(\"Calvin Harris, Dua Lipa - One Kiss (Lyric Video)\", category_df10)#\"Dua Lipa - IDGAF (Official Music Video)\", category_df10)\n",
    "a0"
   ]
  },
  {
   "cell_type": "code",
   "execution_count": 29,
   "metadata": {},
   "outputs": [
    {
     "data": {
      "text/plain": [
       "['Azealia',\n",
       " '\"Banks\"',\n",
       " '\"Anna\"',\n",
       " '\"Wintour\"',\n",
       " '\"eOne\"',\n",
       " '\"Music\"',\n",
       " '\"Dance\"',\n",
       " '\"Alternative/Indie\"',\n",
       " '\"Electronic\"',\n",
       " '\"Club/Dance\"',\n",
       " '\"Pop\"']"
      ]
     },
     "execution_count": 29,
     "metadata": {},
     "output_type": "execute_result"
    }
   ],
   "source": [
    "a1 = find_tags(\"Azealia Banks - Anna Wintour\", category_df10)\n",
    "a1"
   ]
  },
  {
   "cell_type": "code",
   "execution_count": 30,
   "metadata": {},
   "outputs": [
    {
     "data": {
      "text/plain": [
       "0.0"
      ]
     },
     "execution_count": 30,
     "metadata": {},
     "output_type": "execute_result"
    }
   ],
   "source": [
    "get_jaccard_sim_list(a0, a1)"
   ]
  },
  {
   "cell_type": "code",
   "execution_count": null,
   "metadata": {},
   "outputs": [],
   "source": []
  },
  {
   "cell_type": "code",
   "execution_count": 31,
   "metadata": {},
   "outputs": [
    {
     "data": {
      "text/plain": [
       "['dua lipa',\n",
       " '\"golden slumbers\"',\n",
       " '\"xmas songs\"',\n",
       " '\"christmas music\"',\n",
       " '\"john lewis advert\"',\n",
       " '\"christmas\"',\n",
       " '\"festive\"']"
      ]
     },
     "execution_count": 31,
     "metadata": {},
     "output_type": "execute_result"
    }
   ],
   "source": [
    "a2 = find_tags(\"Dua Lipa - Golden Slumbers\", category_df10)\n",
    "a2"
   ]
  },
  {
   "cell_type": "code",
   "execution_count": 32,
   "metadata": {},
   "outputs": [
    {
     "data": {
      "text/plain": [
       "0.0"
      ]
     },
     "execution_count": 32,
     "metadata": {},
     "output_type": "execute_result"
    }
   ],
   "source": [
    "get_jaccard_sim_list(a0, a2)"
   ]
  },
  {
   "cell_type": "markdown",
   "metadata": {},
   "source": [
    "## Annabelle's part 1209\n",
    "\n",
    "### Three methods to calulate the similarity between two titles\n",
    "     get_jaccard_sim and get_cosine_sim measure the count of words that appear in two titles while get_gensim_sim calculates the similarity using semantic meaning from a pre-trained model\n",
    "\n",
    "\n",
    "\n"
   ]
  },
  {
   "cell_type": "code",
   "execution_count": 33,
   "metadata": {},
   "outputs": [],
   "source": [
    "#source: https://towardsdatascience.com/overview-of-text-similarity-metrics-3397c4601f50\n",
    "def get_jaccard_sim(str1, str2): \n",
    "    a = set(str1.split()) \n",
    "    b = set(str2.split())\n",
    "    c = a.intersection(b)\n",
    "    return float(len(c)) / (len(a) + len(b) - len(c))"
   ]
  },
  {
   "cell_type": "code",
   "execution_count": 34,
   "metadata": {},
   "outputs": [],
   "source": [
    "from collections import Counter\n",
    "from sklearn.feature_extraction.text import CountVectorizer\n",
    "from sklearn.metrics.pairwise import cosine_similarity\n",
    "def get_cosine_sim(*strs): \n",
    "    vectors = [t for t in get_vectors(*strs)]\n",
    "    return cosine_similarity(vectors)[0][1]\n",
    "    \n",
    "def get_vectors(*strs):\n",
    "    text = [t for t in strs]\n",
    "    vectorizer = CountVectorizer(text)\n",
    "    vectorizer.fit(text)\n",
    "    return vectorizer.transform(text).toarray()"
   ]
  },
  {
   "cell_type": "code",
   "execution_count": 37,
   "metadata": {},
   "outputs": [],
   "source": [
    "#!pip install gensim\n",
    "import gensim\n",
    "import gensim.downloader as api\n",
    "word_vectors = api.load(\"glove-wiki-gigaword-100\")\n",
    "def get_gensim_sim(first, second):\n",
    "    first = first.split()\n",
    "    second = second.split()\n",
    "    try:\n",
    "        similarity = word_vectors.n_similarity(first.split(), second.split())\n",
    "    except:\n",
    "        new_first = []\n",
    "        new_second = []\n",
    "        \n",
    "        for f in first:\n",
    "            if f in word_vectors:\n",
    "                new_first += [f]\n",
    "        for s in second:\n",
    "            if s in word_vectors:\n",
    "                new_second += [s]\n",
    "        similarity = word_vectors.n_similarity(new_first or ['none'], new_second or ['none'])\n",
    "    return similarity\n",
    "\n"
   ]
  },
  {
   "cell_type": "markdown",
   "metadata": {},
   "source": [
    "#### Outputs the top three titles in the same category"
   ]
  },
  {
   "cell_type": "code",
   "execution_count": 40,
   "metadata": {
    "scrolled": true
   },
   "outputs": [
    {
     "data": {
      "text/plain": [
       "28211    iPhone X – Selfies on iPhone X – Apple\n",
       "19598                Retro iMac iPhone X Cases!\n",
       "2682            Apple iPhone X - One Week Later\n",
       "Name: title, dtype: object"
      ]
     },
     "execution_count": 40,
     "metadata": {},
     "output_type": "execute_result"
    }
   ],
   "source": [
    "def find_similar_title(v, function, num):\n",
    "    category = predict_category_from_title(v)\n",
    "    video_category = video.loc[video['category_id']==category]\n",
    "\n",
    "    score = []\n",
    "    \n",
    "    for t in video_category.title_clean:\n",
    "        score += [function(v, t)]\n",
    "    video_category[\"score\"] = score\n",
    "    \n",
    "    video_category = video_category.loc[video_category['score']< 1].sort_values(by=['score'], ascending=False)\n",
    "    #return score\n",
    "    return video_category.title[0:num]\n",
    "find_similar_title(\"iphone case\", get_gensim_sim, 3)"
   ]
  },
  {
   "cell_type": "markdown",
   "metadata": {},
   "source": [
    "## Testing function examples\n",
    "#### https://www.youtube.com/channel/UCF0pVplsI8R5kcAqgtoRqoA"
   ]
  },
  {
   "cell_type": "code",
   "execution_count": 42,
   "metadata": {},
   "outputs": [
    {
     "data": {
      "text/plain": [
       "25"
      ]
     },
     "execution_count": 42,
     "metadata": {},
     "output_type": "execute_result"
    }
   ],
   "source": [
    "# https://www.youtube.com/watch?v=Ufye3xSjcqM\n",
    "# Category: Travel & Events\n",
    "# Tags: #Singapore #buffet #luxury\n",
    "# Title: BEST LUXURY BUFFET in Singapore!? Colony Buffet Review at Ritz Carlton\n",
    "title = preprocess_text(\"BEST LUXURY BUFFET in Singapore!? Colony Buffet Review at Ritz Carlton\")\n",
    "predict_category_from_title(title)\n",
    "\n",
    "make_recommendations(title)"
   ]
  },
  {
   "cell_type": "code",
   "execution_count": null,
   "metadata": {},
   "outputs": [],
   "source": [
    "# https://www.youtube.com/watch?v=sfv1QaRzJg8\n",
    "# Category: Entertainment\n",
    "# Tags: None\n",
    "# Title: I Ordered Pizza And Tipped The House\n",
    "title = preprocess_text(\"I Ordered Pizza And Tipped The House\")\n",
    "predict_category_from_title(X_train, \n",
    "                            y_train, \n",
    "                            title, \n",
    "                            TfidfVectorizer(), \n",
    "                            SGDClassifier())\n",
    "\n",
    "make_recommendations(title, get_gensim_sim, 5)"
   ]
  },
  {
   "cell_type": "code",
   "execution_count": null,
   "metadata": {},
   "outputs": [],
   "source": [
    "# https://www.youtube.com/watch?v=ahZFCF--uRY\n",
    "# Category: Entertainment\n",
    "# Tags: #Ghostbusters #OfficialTrailer #Sony\n",
    "# Title: GHOSTBUSTERS: AFTERLIFE - Official Trailer (HD)\n",
    "\n",
    "title = preprocess_text('GHOSTBUSTERS: AFTERLIFE - Official Trailer (HD)')\n",
    "predict_category_from_title(X_train, \n",
    "                            y_train, \n",
    "                            title, \n",
    "                            TfidfVectorizer(), \n",
    "                            SGDClassifier())\n",
    "\n",
    "#make_recommendations(title)"
   ]
  },
  {
   "cell_type": "code",
   "execution_count": null,
   "metadata": {},
   "outputs": [],
   "source": [
    "# https://www.youtube.com/watch?v=I99SmVy52jU\n",
    "# Category: Entertainment\n",
    "# Tags: None\n",
    "# Title: Rich Christmas Vs. Broke Christmas\n",
    "title = preprocess_text('Rich Christmas Vs. Broke Christmas')\n",
    "predict_category_from_title(X_train, \n",
    "                            y_train, \n",
    "                            title, \n",
    "                            TfidfVectorizer(), \n",
    "                            SGDClassifier())\n",
    "\n",
    "#make_recommendations(title)"
   ]
  },
  {
   "cell_type": "code",
   "execution_count": null,
   "metadata": {},
   "outputs": [],
   "source": [
    "# https://www.youtube.com/watch?v=i01R1fA6gos\n",
    "# Category: Sports\n",
    "# Tags: #NFL #49ers #Saints\n",
    "# Title: 49ers vs. Saints Week 14 Highlights | NFL 2019\n",
    "title = preprocess_text('49ers vs. Saints Week 14 Highlights | NFL 2019')\n",
    "predict_category_from_title(X_train, \n",
    "                            y_train, \n",
    "                            title, \n",
    "                            TfidfVectorizer(), \n",
    "                            SGDClassifier())\n",
    "\n",
    "#make_recommendations(title)"
   ]
  },
  {
   "cell_type": "code",
   "execution_count": 51,
   "metadata": {},
   "outputs": [
    {
     "ename": "KeyError",
     "evalue": "'category_id'",
     "output_type": "error",
     "traceback": [
      "\u001b[0;31m---------------------------------------------------------------------------\u001b[0m",
      "\u001b[0;31mTypeError\u001b[0m                                 Traceback (most recent call last)",
      "\u001b[0;32mpandas/_libs/index.pyx\u001b[0m in \u001b[0;36mpandas._libs.index.IndexEngine.get_loc\u001b[0;34m()\u001b[0m\n",
      "\u001b[0;32mpandas/_libs/hashtable_class_helper.pxi\u001b[0m in \u001b[0;36mpandas._libs.hashtable.Int64HashTable.get_item\u001b[0;34m()\u001b[0m\n",
      "\u001b[0;31mTypeError\u001b[0m: an integer is required",
      "\nDuring handling of the above exception, another exception occurred:\n",
      "\u001b[0;31mKeyError\u001b[0m                                  Traceback (most recent call last)",
      "\u001b[0;32m<ipython-input-51-986dd99d51cc>\u001b[0m in \u001b[0;36m<module>\u001b[0;34m\u001b[0m\n\u001b[1;32m      5\u001b[0m \u001b[0mtitle\u001b[0m \u001b[0;34m=\u001b[0m \u001b[0mpreprocess_text\u001b[0m\u001b[0;34m(\u001b[0m\u001b[0;34m\"Doing LADY GAGA'S Makeup! | NikkieTutorials\"\u001b[0m\u001b[0;34m)\u001b[0m\u001b[0;34m\u001b[0m\u001b[0;34m\u001b[0m\u001b[0m\n\u001b[1;32m      6\u001b[0m \u001b[0mpredict_category_from_title\u001b[0m\u001b[0;34m(\u001b[0m\u001b[0mtitle\u001b[0m\u001b[0;34m)\u001b[0m\u001b[0;34m\u001b[0m\u001b[0;34m\u001b[0m\u001b[0m\n\u001b[0;32m----> 7\u001b[0;31m \u001b[0mmake_recommendations\u001b[0m\u001b[0;34m(\u001b[0m\u001b[0mtitle\u001b[0m\u001b[0;34m,\u001b[0m \u001b[0mget_gensim_sim\u001b[0m\u001b[0;34m,\u001b[0m \u001b[0;36m5\u001b[0m\u001b[0;34m)\u001b[0m\u001b[0;34m\u001b[0m\u001b[0;34m\u001b[0m\u001b[0m\n\u001b[0m",
      "\u001b[0;32m<ipython-input-50-c1b7ed23773e>\u001b[0m in \u001b[0;36mmake_recommendations\u001b[0;34m(title, func, num)\u001b[0m\n\u001b[1;32m      4\u001b[0m     \u001b[0mtop_tags\u001b[0m \u001b[0;34m=\u001b[0m \u001b[0mfind_similar_tag_video\u001b[0m\u001b[0;34m(\u001b[0m\u001b[0mtitle\u001b[0m\u001b[0;34m,\u001b[0m \u001b[0mnum\u001b[0m\u001b[0;34m)\u001b[0m\u001b[0;34m\u001b[0m\u001b[0;34m\u001b[0m\u001b[0m\n\u001b[1;32m      5\u001b[0m \u001b[0;34m\u001b[0m\u001b[0m\n\u001b[0;32m----> 6\u001b[0;31m     \u001b[0mcategory\u001b[0m \u001b[0;34m=\u001b[0m \u001b[0mtop_titles\u001b[0m\u001b[0;34m[\u001b[0m\u001b[0;34m\"category_id\"\u001b[0m\u001b[0;34m]\u001b[0m\u001b[0;34m[\u001b[0m\u001b[0;36m0\u001b[0m\u001b[0;34m]\u001b[0m\u001b[0;34m\u001b[0m\u001b[0;34m\u001b[0m\u001b[0m\n\u001b[0m\u001b[1;32m      7\u001b[0m     \u001b[0mcategory_df\u001b[0m \u001b[0;34m=\u001b[0m \u001b[0mcategory_group\u001b[0m\u001b[0;34m(\u001b[0m\u001b[0mcategory\u001b[0m\u001b[0;34m)\u001b[0m\u001b[0;34m\u001b[0m\u001b[0;34m\u001b[0m\u001b[0m\n\u001b[1;32m      8\u001b[0m \u001b[0;34m\u001b[0m\u001b[0m\n",
      "\u001b[0;32m/anaconda3/lib/python3.7/site-packages/pandas/core/series.py\u001b[0m in \u001b[0;36m__getitem__\u001b[0;34m(self, key)\u001b[0m\n\u001b[1;32m    765\u001b[0m         \u001b[0mkey\u001b[0m \u001b[0;34m=\u001b[0m \u001b[0mcom\u001b[0m\u001b[0;34m.\u001b[0m\u001b[0m_apply_if_callable\u001b[0m\u001b[0;34m(\u001b[0m\u001b[0mkey\u001b[0m\u001b[0;34m,\u001b[0m \u001b[0mself\u001b[0m\u001b[0;34m)\u001b[0m\u001b[0;34m\u001b[0m\u001b[0;34m\u001b[0m\u001b[0m\n\u001b[1;32m    766\u001b[0m         \u001b[0;32mtry\u001b[0m\u001b[0;34m:\u001b[0m\u001b[0;34m\u001b[0m\u001b[0;34m\u001b[0m\u001b[0m\n\u001b[0;32m--> 767\u001b[0;31m             \u001b[0mresult\u001b[0m \u001b[0;34m=\u001b[0m \u001b[0mself\u001b[0m\u001b[0;34m.\u001b[0m\u001b[0mindex\u001b[0m\u001b[0;34m.\u001b[0m\u001b[0mget_value\u001b[0m\u001b[0;34m(\u001b[0m\u001b[0mself\u001b[0m\u001b[0;34m,\u001b[0m \u001b[0mkey\u001b[0m\u001b[0;34m)\u001b[0m\u001b[0;34m\u001b[0m\u001b[0;34m\u001b[0m\u001b[0m\n\u001b[0m\u001b[1;32m    768\u001b[0m \u001b[0;34m\u001b[0m\u001b[0m\n\u001b[1;32m    769\u001b[0m             \u001b[0;32mif\u001b[0m \u001b[0;32mnot\u001b[0m \u001b[0mis_scalar\u001b[0m\u001b[0;34m(\u001b[0m\u001b[0mresult\u001b[0m\u001b[0;34m)\u001b[0m\u001b[0;34m:\u001b[0m\u001b[0;34m\u001b[0m\u001b[0;34m\u001b[0m\u001b[0m\n",
      "\u001b[0;32m/anaconda3/lib/python3.7/site-packages/pandas/core/indexes/base.py\u001b[0m in \u001b[0;36mget_value\u001b[0;34m(self, series, key)\u001b[0m\n\u001b[1;32m   3116\u001b[0m         \u001b[0;32mtry\u001b[0m\u001b[0;34m:\u001b[0m\u001b[0;34m\u001b[0m\u001b[0;34m\u001b[0m\u001b[0m\n\u001b[1;32m   3117\u001b[0m             return self._engine.get_value(s, k,\n\u001b[0;32m-> 3118\u001b[0;31m                                           tz=getattr(series.dtype, 'tz', None))\n\u001b[0m\u001b[1;32m   3119\u001b[0m         \u001b[0;32mexcept\u001b[0m \u001b[0mKeyError\u001b[0m \u001b[0;32mas\u001b[0m \u001b[0me1\u001b[0m\u001b[0;34m:\u001b[0m\u001b[0;34m\u001b[0m\u001b[0;34m\u001b[0m\u001b[0m\n\u001b[1;32m   3120\u001b[0m             \u001b[0;32mif\u001b[0m \u001b[0mlen\u001b[0m\u001b[0;34m(\u001b[0m\u001b[0mself\u001b[0m\u001b[0;34m)\u001b[0m \u001b[0;34m>\u001b[0m \u001b[0;36m0\u001b[0m \u001b[0;32mand\u001b[0m \u001b[0mself\u001b[0m\u001b[0;34m.\u001b[0m\u001b[0minferred_type\u001b[0m \u001b[0;32min\u001b[0m \u001b[0;34m[\u001b[0m\u001b[0;34m'integer'\u001b[0m\u001b[0;34m,\u001b[0m \u001b[0;34m'boolean'\u001b[0m\u001b[0;34m]\u001b[0m\u001b[0;34m:\u001b[0m\u001b[0;34m\u001b[0m\u001b[0;34m\u001b[0m\u001b[0m\n",
      "\u001b[0;32mpandas/_libs/index.pyx\u001b[0m in \u001b[0;36mpandas._libs.index.IndexEngine.get_value\u001b[0;34m()\u001b[0m\n",
      "\u001b[0;32mpandas/_libs/index.pyx\u001b[0m in \u001b[0;36mpandas._libs.index.IndexEngine.get_value\u001b[0;34m()\u001b[0m\n",
      "\u001b[0;32mpandas/_libs/index.pyx\u001b[0m in \u001b[0;36mpandas._libs.index.IndexEngine.get_loc\u001b[0;34m()\u001b[0m\n",
      "\u001b[0;31mKeyError\u001b[0m: 'category_id'"
     ]
    }
   ],
   "source": [
    "# https://www.youtube.com/watch?v=kx_uCdTRCAw\n",
    "# Category: Howto & Style\n",
    "# Tags: None\n",
    "# Title: Doing LADY GAGA'S Makeup! | NikkieTutorials\n",
    "title = preprocess_text(\"Doing LADY GAGA'S Makeup! | NikkieTutorials\")\n",
    "predict_category_from_title(title)\n",
    "make_recommendations(title, get_gensim_sim, 5)"
   ]
  },
  {
   "cell_type": "code",
   "execution_count": 47,
   "metadata": {},
   "outputs": [
    {
     "data": {
      "text/plain": [
       "4562                                  CRAB DESSERT MENU\n",
       "10930    How-To Cook Breakfast Hash with Matty Matheson\n",
       "20303               SPICY SEAFOOD NOODLE SOUP | MUKBANG\n",
       "4219                    Burger King | Chocolate Whopper\n",
       "6744            Deluded Chef BOILS BURGER! | Hotel Hell\n",
       "Name: title, dtype: object"
      ]
     },
     "execution_count": 47,
     "metadata": {},
     "output_type": "execute_result"
    }
   ],
   "source": [
    "find_similar_title('buffet', get_gensim_sim, 5)"
   ]
  },
  {
   "cell_type": "code",
   "execution_count": null,
   "metadata": {},
   "outputs": [],
   "source": [
    "find_similar_title('christmas', get_gensim_sim, 3)"
   ]
  },
  {
   "cell_type": "code",
   "execution_count": null,
   "metadata": {
    "scrolled": true
   },
   "outputs": [],
   "source": [
    "find_similar_title(\"makeup\", get_gensim_sim, 3)"
   ]
  },
  {
   "cell_type": "markdown",
   "metadata": {},
   "source": [
    "## Putting It All Together"
   ]
  },
  {
   "cell_type": "code",
   "execution_count": 53,
   "metadata": {},
   "outputs": [
    {
     "name": "stdout",
     "output_type": "stream",
     "text": [
      "9790    Guy Who Put A GoPro On His Dog Is Chilled To T...\n",
      "Name: title, dtype: object Empty DataFrame\n",
      "Columns: [title, tag_score]\n",
      "Index: []\n"
     ]
    },
    {
     "ename": "KeyError",
     "evalue": "'category_id'",
     "output_type": "error",
     "traceback": [
      "\u001b[0;31m---------------------------------------------------------------------------\u001b[0m",
      "\u001b[0;31mTypeError\u001b[0m                                 Traceback (most recent call last)",
      "\u001b[0;32mpandas/_libs/index.pyx\u001b[0m in \u001b[0;36mpandas._libs.index.IndexEngine.get_loc\u001b[0;34m()\u001b[0m\n",
      "\u001b[0;32mpandas/_libs/hashtable_class_helper.pxi\u001b[0m in \u001b[0;36mpandas._libs.hashtable.Int64HashTable.get_item\u001b[0;34m()\u001b[0m\n",
      "\u001b[0;31mTypeError\u001b[0m: an integer is required",
      "\nDuring handling of the above exception, another exception occurred:\n",
      "\u001b[0;31mKeyError\u001b[0m                                  Traceback (most recent call last)",
      "\u001b[0;32m<ipython-input-53-c6f1be375f6e>\u001b[0m in \u001b[0;36m<module>\u001b[0;34m\u001b[0m\n\u001b[1;32m      4\u001b[0m \u001b[0;31m# Title: I Ordered Pizza And Tipped The House\u001b[0m\u001b[0;34m\u001b[0m\u001b[0;34m\u001b[0m\u001b[0;34m\u001b[0m\u001b[0m\n\u001b[1;32m      5\u001b[0m \u001b[0mtitle\u001b[0m \u001b[0;34m=\u001b[0m \u001b[0mpreprocess_text\u001b[0m\u001b[0;34m(\u001b[0m\u001b[0;34m\"I Ordered Pizza And Tipped The House\"\u001b[0m\u001b[0;34m)\u001b[0m\u001b[0;34m\u001b[0m\u001b[0;34m\u001b[0m\u001b[0m\n\u001b[0;32m----> 6\u001b[0;31m \u001b[0mmake_recommendations\u001b[0m\u001b[0;34m(\u001b[0m\u001b[0mtitle\u001b[0m\u001b[0;34m,\u001b[0m \u001b[0mget_gensim_sim\u001b[0m\u001b[0;34m,\u001b[0m \u001b[0;36m1\u001b[0m\u001b[0;34m)\u001b[0m\u001b[0;34m\u001b[0m\u001b[0;34m\u001b[0m\u001b[0m\n\u001b[0m",
      "\u001b[0;32m<ipython-input-52-5c137f37d343>\u001b[0m in \u001b[0;36mmake_recommendations\u001b[0;34m(title, func, num)\u001b[0m\n\u001b[1;32m      5\u001b[0m     \u001b[0mprint\u001b[0m\u001b[0;34m(\u001b[0m\u001b[0mtop_titles\u001b[0m\u001b[0;34m,\u001b[0m \u001b[0mtop_tags\u001b[0m\u001b[0;34m)\u001b[0m\u001b[0;34m\u001b[0m\u001b[0;34m\u001b[0m\u001b[0m\n\u001b[1;32m      6\u001b[0m \u001b[0;34m\u001b[0m\u001b[0m\n\u001b[0;32m----> 7\u001b[0;31m     \u001b[0mcategory\u001b[0m \u001b[0;34m=\u001b[0m \u001b[0mtop_titles\u001b[0m\u001b[0;34m[\u001b[0m\u001b[0;34m\"category_id\"\u001b[0m\u001b[0;34m]\u001b[0m\u001b[0;34m[\u001b[0m\u001b[0;36m0\u001b[0m\u001b[0;34m]\u001b[0m\u001b[0;34m\u001b[0m\u001b[0;34m\u001b[0m\u001b[0m\n\u001b[0m\u001b[1;32m      8\u001b[0m     \u001b[0mcategory_df\u001b[0m \u001b[0;34m=\u001b[0m \u001b[0mcategory_group\u001b[0m\u001b[0;34m(\u001b[0m\u001b[0mcategory\u001b[0m\u001b[0;34m)\u001b[0m\u001b[0;34m\u001b[0m\u001b[0;34m\u001b[0m\u001b[0m\n\u001b[1;32m      9\u001b[0m \u001b[0;34m\u001b[0m\u001b[0m\n",
      "\u001b[0;32m/anaconda3/lib/python3.7/site-packages/pandas/core/series.py\u001b[0m in \u001b[0;36m__getitem__\u001b[0;34m(self, key)\u001b[0m\n\u001b[1;32m    765\u001b[0m         \u001b[0mkey\u001b[0m \u001b[0;34m=\u001b[0m \u001b[0mcom\u001b[0m\u001b[0;34m.\u001b[0m\u001b[0m_apply_if_callable\u001b[0m\u001b[0;34m(\u001b[0m\u001b[0mkey\u001b[0m\u001b[0;34m,\u001b[0m \u001b[0mself\u001b[0m\u001b[0;34m)\u001b[0m\u001b[0;34m\u001b[0m\u001b[0;34m\u001b[0m\u001b[0m\n\u001b[1;32m    766\u001b[0m         \u001b[0;32mtry\u001b[0m\u001b[0;34m:\u001b[0m\u001b[0;34m\u001b[0m\u001b[0;34m\u001b[0m\u001b[0m\n\u001b[0;32m--> 767\u001b[0;31m             \u001b[0mresult\u001b[0m \u001b[0;34m=\u001b[0m \u001b[0mself\u001b[0m\u001b[0;34m.\u001b[0m\u001b[0mindex\u001b[0m\u001b[0;34m.\u001b[0m\u001b[0mget_value\u001b[0m\u001b[0;34m(\u001b[0m\u001b[0mself\u001b[0m\u001b[0;34m,\u001b[0m \u001b[0mkey\u001b[0m\u001b[0;34m)\u001b[0m\u001b[0;34m\u001b[0m\u001b[0;34m\u001b[0m\u001b[0m\n\u001b[0m\u001b[1;32m    768\u001b[0m \u001b[0;34m\u001b[0m\u001b[0m\n\u001b[1;32m    769\u001b[0m             \u001b[0;32mif\u001b[0m \u001b[0;32mnot\u001b[0m \u001b[0mis_scalar\u001b[0m\u001b[0;34m(\u001b[0m\u001b[0mresult\u001b[0m\u001b[0;34m)\u001b[0m\u001b[0;34m:\u001b[0m\u001b[0;34m\u001b[0m\u001b[0;34m\u001b[0m\u001b[0m\n",
      "\u001b[0;32m/anaconda3/lib/python3.7/site-packages/pandas/core/indexes/base.py\u001b[0m in \u001b[0;36mget_value\u001b[0;34m(self, series, key)\u001b[0m\n\u001b[1;32m   3116\u001b[0m         \u001b[0;32mtry\u001b[0m\u001b[0;34m:\u001b[0m\u001b[0;34m\u001b[0m\u001b[0;34m\u001b[0m\u001b[0m\n\u001b[1;32m   3117\u001b[0m             return self._engine.get_value(s, k,\n\u001b[0;32m-> 3118\u001b[0;31m                                           tz=getattr(series.dtype, 'tz', None))\n\u001b[0m\u001b[1;32m   3119\u001b[0m         \u001b[0;32mexcept\u001b[0m \u001b[0mKeyError\u001b[0m \u001b[0;32mas\u001b[0m \u001b[0me1\u001b[0m\u001b[0;34m:\u001b[0m\u001b[0;34m\u001b[0m\u001b[0;34m\u001b[0m\u001b[0m\n\u001b[1;32m   3120\u001b[0m             \u001b[0;32mif\u001b[0m \u001b[0mlen\u001b[0m\u001b[0;34m(\u001b[0m\u001b[0mself\u001b[0m\u001b[0;34m)\u001b[0m \u001b[0;34m>\u001b[0m \u001b[0;36m0\u001b[0m \u001b[0;32mand\u001b[0m \u001b[0mself\u001b[0m\u001b[0;34m.\u001b[0m\u001b[0minferred_type\u001b[0m \u001b[0;32min\u001b[0m \u001b[0;34m[\u001b[0m\u001b[0;34m'integer'\u001b[0m\u001b[0;34m,\u001b[0m \u001b[0;34m'boolean'\u001b[0m\u001b[0;34m]\u001b[0m\u001b[0;34m:\u001b[0m\u001b[0;34m\u001b[0m\u001b[0;34m\u001b[0m\u001b[0m\n",
      "\u001b[0;32mpandas/_libs/index.pyx\u001b[0m in \u001b[0;36mpandas._libs.index.IndexEngine.get_value\u001b[0;34m()\u001b[0m\n",
      "\u001b[0;32mpandas/_libs/index.pyx\u001b[0m in \u001b[0;36mpandas._libs.index.IndexEngine.get_value\u001b[0;34m()\u001b[0m\n",
      "\u001b[0;32mpandas/_libs/index.pyx\u001b[0m in \u001b[0;36mpandas._libs.index.IndexEngine.get_loc\u001b[0;34m()\u001b[0m\n",
      "\u001b[0;31mKeyError\u001b[0m: 'category_id'"
     ]
    }
   ],
   "source": [
    "# https://www.youtube.com/watch?v=sfv1QaRzJg8\n",
    "# Category: Entertainment\n",
    "# Tags: None\n",
    "# Title: I Ordered Pizza And Tipped The House\n",
    "title = preprocess_text(\"I Ordered Pizza And Tipped The House\")\n",
    "make_recommendations(title, get_gensim_sim, 1)"
   ]
  },
  {
   "cell_type": "code",
   "execution_count": 54,
   "metadata": {},
   "outputs": [
    {
     "data": {
      "text/html": [
       "<div>\n",
       "<style scoped>\n",
       "    .dataframe tbody tr th:only-of-type {\n",
       "        vertical-align: middle;\n",
       "    }\n",
       "\n",
       "    .dataframe tbody tr th {\n",
       "        vertical-align: top;\n",
       "    }\n",
       "\n",
       "    .dataframe thead th {\n",
       "        text-align: right;\n",
       "    }\n",
       "</style>\n",
       "<table border=\"1\" class=\"dataframe\">\n",
       "  <thead>\n",
       "    <tr style=\"text-align: right;\">\n",
       "      <th></th>\n",
       "      <th>title</th>\n",
       "      <th>tag_score</th>\n",
       "    </tr>\n",
       "  </thead>\n",
       "  <tbody>\n",
       "  </tbody>\n",
       "</table>\n",
       "</div>"
      ],
      "text/plain": [
       "Empty DataFrame\n",
       "Columns: [title, tag_score]\n",
       "Index: []"
      ]
     },
     "execution_count": 54,
     "metadata": {},
     "output_type": "execute_result"
    }
   ],
   "source": [
    "find_similar_tag_video(\"I Ordered Pizza And Tipped The House\", 5)"
   ]
  },
  {
   "cell_type": "code",
   "execution_count": 52,
   "metadata": {},
   "outputs": [],
   "source": [
    "def make_recommendations(title, func, num):\n",
    "    \n",
    "    top_titles = find_similar_title(title, func, num)\n",
    "    top_tags = find_similar_tag_video(title, num)\n",
    "    print(top_titles, top_tags)\n",
    "    \n",
    "    category = top_titles[\"category_id\"][0]\n",
    "    category_df = category_group(category)\n",
    "    \n",
    "    top_titles = top_titles.drop(columns=['category_id'])\n",
    "    interested_tags = find_tags(title, category_df)\n",
    "    cleaned_title = preprocess_text(title)\n",
    "    title_set = set(cleaned_title.split())\n",
    "    \n",
    "    title_supplement_score = []\n",
    "    for t in top_titles[\"title\"]:\n",
    "        tags = find_tags(t, category_df)\n",
    "        title_supplement_score.append(get_jaccard_sim_list(interested_tags, tags))\n",
    "    \n",
    "    tags_supplement_score = []\n",
    "    for t in top_tags[\"title\"]:        \n",
    "        tags_supplement_score.append(get_jaccard_sim(title_set, t))\n",
    "    \n",
    "    top_titles[\"tag_score\"] = title_supplement_score\n",
    "    top_tags[\"title_score\"] = tags_supplement_score     \n",
    "    \n",
    "    combined_top = top_titles.append(top_tags, ignore_index = True)\n",
    "    combined_top[\"Combined Score\"] = np.array(combined_top[\"tag_score\"]) +  np.array(combined_top[\"title_score\"])\n",
    "    \n",
    "    combined_top = combined_top.sort_values(by = ['Combined Score'], ascending=False).reset_index().drop(columns=['index'])\n",
    "    return combined_top"
   ]
  },
  {
   "cell_type": "code",
   "execution_count": null,
   "metadata": {},
   "outputs": [],
   "source": [
    "make_recommendations(\"Dua Lipa - IDGAF (Official Music Video)\").head(10)"
   ]
  },
  {
   "cell_type": "code",
   "execution_count": null,
   "metadata": {},
   "outputs": [],
   "source": [
    "make_recommendations(\"#ProudToCreate: Pride 2018\").head(10)"
   ]
  },
  {
   "cell_type": "code",
   "execution_count": null,
   "metadata": {},
   "outputs": [],
   "source": [
    "make_recommendations(\"#1 Fortnite World Rank - 2,330 Solo Wins!\").head(10)"
   ]
  },
  {
   "cell_type": "code",
   "execution_count": null,
   "metadata": {},
   "outputs": [],
   "source": []
  }
 ],
 "metadata": {
  "anaconda-cloud": {},
  "kernelspec": {
   "display_name": "Python 3",
   "language": "python",
   "name": "python3"
  },
  "language_info": {
   "codemirror_mode": {
    "name": "ipython",
    "version": 3
   },
   "file_extension": ".py",
   "mimetype": "text/x-python",
   "name": "python",
   "nbconvert_exporter": "python",
   "pygments_lexer": "ipython3",
   "version": "3.7.1"
  }
 },
 "nbformat": 4,
 "nbformat_minor": 2
}
